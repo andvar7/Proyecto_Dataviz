{
 "cells": [
  {
   "cell_type": "markdown",
   "metadata": {},
   "source": [
    "## Modelos de Regresión"
   ]
  },
  {
   "cell_type": "code",
   "execution_count": 1,
   "metadata": {},
   "outputs": [
    {
     "name": "stdout",
     "output_type": "stream",
     "text": [
      "Requirement already satisfied: phik in c:\\users\\lisap\\miniconda3\\envs\\ml_venv\\lib\\site-packages (0.12.4)\n",
      "Requirement already satisfied: numpy>=1.18.0 in c:\\users\\lisap\\miniconda3\\envs\\ml_venv\\lib\\site-packages (from phik) (1.26.4)\n",
      "Requirement already satisfied: scipy>=1.5.2 in c:\\users\\lisap\\miniconda3\\envs\\ml_venv\\lib\\site-packages (from phik) (1.13.0)\n",
      "Requirement already satisfied: pandas>=0.25.1 in c:\\users\\lisap\\miniconda3\\envs\\ml_venv\\lib\\site-packages (from phik) (2.2.1)\n",
      "Requirement already satisfied: matplotlib>=2.2.3 in c:\\users\\lisap\\miniconda3\\envs\\ml_venv\\lib\\site-packages (from phik) (3.8.4)\n",
      "Requirement already satisfied: joblib>=0.14.1 in c:\\users\\lisap\\miniconda3\\envs\\ml_venv\\lib\\site-packages (from phik) (1.4.0)\n",
      "Requirement already satisfied: contourpy>=1.0.1 in c:\\users\\lisap\\miniconda3\\envs\\ml_venv\\lib\\site-packages (from matplotlib>=2.2.3->phik) (1.2.1)\n",
      "Requirement already satisfied: cycler>=0.10 in c:\\users\\lisap\\miniconda3\\envs\\ml_venv\\lib\\site-packages (from matplotlib>=2.2.3->phik) (0.12.1)\n",
      "Requirement already satisfied: fonttools>=4.22.0 in c:\\users\\lisap\\miniconda3\\envs\\ml_venv\\lib\\site-packages (from matplotlib>=2.2.3->phik) (4.51.0)\n",
      "Requirement already satisfied: kiwisolver>=1.3.1 in c:\\users\\lisap\\miniconda3\\envs\\ml_venv\\lib\\site-packages (from matplotlib>=2.2.3->phik) (1.4.5)\n",
      "Requirement already satisfied: packaging>=20.0 in c:\\users\\lisap\\miniconda3\\envs\\ml_venv\\lib\\site-packages (from matplotlib>=2.2.3->phik) (24.0)\n",
      "Requirement already satisfied: pillow>=8 in c:\\users\\lisap\\miniconda3\\envs\\ml_venv\\lib\\site-packages (from matplotlib>=2.2.3->phik) (10.3.0)\n",
      "Requirement already satisfied: pyparsing>=2.3.1 in c:\\users\\lisap\\miniconda3\\envs\\ml_venv\\lib\\site-packages (from matplotlib>=2.2.3->phik) (3.1.2)\n",
      "Requirement already satisfied: python-dateutil>=2.7 in c:\\users\\lisap\\miniconda3\\envs\\ml_venv\\lib\\site-packages (from matplotlib>=2.2.3->phik) (2.9.0.post0)\n",
      "Requirement already satisfied: importlib-resources>=3.2.0 in c:\\users\\lisap\\miniconda3\\envs\\ml_venv\\lib\\site-packages (from matplotlib>=2.2.3->phik) (6.4.0)\n",
      "Requirement already satisfied: pytz>=2020.1 in c:\\users\\lisap\\miniconda3\\envs\\ml_venv\\lib\\site-packages (from pandas>=0.25.1->phik) (2024.1)\n",
      "Requirement already satisfied: tzdata>=2022.7 in c:\\users\\lisap\\miniconda3\\envs\\ml_venv\\lib\\site-packages (from pandas>=0.25.1->phik) (2024.1)\n",
      "Requirement already satisfied: zipp>=3.1.0 in c:\\users\\lisap\\miniconda3\\envs\\ml_venv\\lib\\site-packages (from importlib-resources>=3.2.0->matplotlib>=2.2.3->phik) (3.18.1)\n",
      "Requirement already satisfied: six>=1.5 in c:\\users\\lisap\\miniconda3\\envs\\ml_venv\\lib\\site-packages (from python-dateutil>=2.7->matplotlib>=2.2.3->phik) (1.16.0)\n"
     ]
    }
   ],
   "source": [
    "import warnings\n",
    "warnings.filterwarnings(\"ignore\")\n",
    "import pandas as pd"
   ]
  },
  {
   "cell_type": "code",
   "execution_count": 2,
   "metadata": {},
   "outputs": [],
   "source": [
    "df = pd.read_excel('data_clusters.xlsx', index_col= 0)"
   ]
  },
  {
   "cell_type": "code",
   "execution_count": 3,
   "metadata": {},
   "outputs": [
    {
     "data": {
      "text/html": [
       "<div>\n",
       "<style scoped>\n",
       "    .dataframe tbody tr th:only-of-type {\n",
       "        vertical-align: middle;\n",
       "    }\n",
       "\n",
       "    .dataframe tbody tr th {\n",
       "        vertical-align: top;\n",
       "    }\n",
       "\n",
       "    .dataframe thead th {\n",
       "        text-align: right;\n",
       "    }\n",
       "</style>\n",
       "<table border=\"1\" class=\"dataframe\">\n",
       "  <thead>\n",
       "    <tr style=\"text-align: right;\">\n",
       "      <th></th>\n",
       "      <th>departamento</th>\n",
       "      <th>municipio</th>\n",
       "      <th>armas_medios</th>\n",
       "      <th>fecha_hecho</th>\n",
       "      <th>genero</th>\n",
       "      <th>grupo_etario</th>\n",
       "      <th>cantidad</th>\n",
       "      <th>cluster</th>\n",
       "    </tr>\n",
       "  </thead>\n",
       "  <tbody>\n",
       "    <tr>\n",
       "      <th>0</th>\n",
       "      <td>ATLANTICO</td>\n",
       "      <td>BARRANQUILLA (CT)</td>\n",
       "      <td>ARMA BLANCA</td>\n",
       "      <td>2010-01-01</td>\n",
       "      <td>MASCULINO</td>\n",
       "      <td>ADULTOS</td>\n",
       "      <td>1</td>\n",
       "      <td>Riesgo Alto</td>\n",
       "    </tr>\n",
       "    <tr>\n",
       "      <th>1</th>\n",
       "      <td>BOYACA</td>\n",
       "      <td>DUITAMA</td>\n",
       "      <td>ARMA BLANCA</td>\n",
       "      <td>2010-01-01</td>\n",
       "      <td>FEMENINO</td>\n",
       "      <td>ADULTOS</td>\n",
       "      <td>1</td>\n",
       "      <td>Riesgo Alto</td>\n",
       "    </tr>\n",
       "    <tr>\n",
       "      <th>2</th>\n",
       "      <td>CAQUETA</td>\n",
       "      <td>PUERTO RICO</td>\n",
       "      <td>ARMA BLANCA</td>\n",
       "      <td>2010-01-01</td>\n",
       "      <td>MASCULINO</td>\n",
       "      <td>ADULTOS</td>\n",
       "      <td>1</td>\n",
       "      <td>Riesgo Moderado</td>\n",
       "    </tr>\n",
       "    <tr>\n",
       "      <th>3</th>\n",
       "      <td>CASANARE</td>\n",
       "      <td>MANÍ</td>\n",
       "      <td>ARMA BLANCA</td>\n",
       "      <td>2010-01-01</td>\n",
       "      <td>FEMENINO</td>\n",
       "      <td>ADULTOS</td>\n",
       "      <td>1</td>\n",
       "      <td>Riesgo Moderado</td>\n",
       "    </tr>\n",
       "    <tr>\n",
       "      <th>4</th>\n",
       "      <td>SANTAFE DE BOGOTA D.C</td>\n",
       "      <td>BOGOTÁ D.C. (CT)</td>\n",
       "      <td>ARMA BLANCA</td>\n",
       "      <td>2010-01-01</td>\n",
       "      <td>FEMENINO</td>\n",
       "      <td>ADULTOS</td>\n",
       "      <td>1</td>\n",
       "      <td>Riesgo Alto</td>\n",
       "    </tr>\n",
       "    <tr>\n",
       "      <th>...</th>\n",
       "      <td>...</td>\n",
       "      <td>...</td>\n",
       "      <td>...</td>\n",
       "      <td>...</td>\n",
       "      <td>...</td>\n",
       "      <td>...</td>\n",
       "      <td>...</td>\n",
       "      <td>...</td>\n",
       "    </tr>\n",
       "    <tr>\n",
       "      <th>572074</th>\n",
       "      <td>VALLE DEL CAUCA</td>\n",
       "      <td>CARTAGO</td>\n",
       "      <td>SIN EMPLEO DE ARMAS</td>\n",
       "      <td>2023-02-28</td>\n",
       "      <td>FEMENINO</td>\n",
       "      <td>ADULTOS</td>\n",
       "      <td>1</td>\n",
       "      <td>Riesgo Alto</td>\n",
       "    </tr>\n",
       "    <tr>\n",
       "      <th>572075</th>\n",
       "      <td>VALLE DEL CAUCA</td>\n",
       "      <td>GUACARÍ</td>\n",
       "      <td>SIN EMPLEO DE ARMAS</td>\n",
       "      <td>2023-02-28</td>\n",
       "      <td>FEMENINO</td>\n",
       "      <td>ADULTOS</td>\n",
       "      <td>1</td>\n",
       "      <td>Riesgo Moderado</td>\n",
       "    </tr>\n",
       "    <tr>\n",
       "      <th>572076</th>\n",
       "      <td>VALLE DEL CAUCA</td>\n",
       "      <td>GUADALAJARA DE BUGA</td>\n",
       "      <td>SIN EMPLEO DE ARMAS</td>\n",
       "      <td>2023-02-28</td>\n",
       "      <td>FEMENINO</td>\n",
       "      <td>ADULTOS</td>\n",
       "      <td>1</td>\n",
       "      <td>Riesgo Moderado</td>\n",
       "    </tr>\n",
       "    <tr>\n",
       "      <th>572077</th>\n",
       "      <td>VALLE DEL CAUCA</td>\n",
       "      <td>PALMIRA</td>\n",
       "      <td>SIN EMPLEO DE ARMAS</td>\n",
       "      <td>2023-02-28</td>\n",
       "      <td>FEMENINO</td>\n",
       "      <td>ADULTOS</td>\n",
       "      <td>2</td>\n",
       "      <td>Riesgo Moderado</td>\n",
       "    </tr>\n",
       "    <tr>\n",
       "      <th>572078</th>\n",
       "      <td>VALLE DEL CAUCA</td>\n",
       "      <td>YUMBO</td>\n",
       "      <td>SIN EMPLEO DE ARMAS</td>\n",
       "      <td>2023-02-28</td>\n",
       "      <td>FEMENINO</td>\n",
       "      <td>ADULTOS</td>\n",
       "      <td>1</td>\n",
       "      <td>Riesgo Bajo</td>\n",
       "    </tr>\n",
       "  </tbody>\n",
       "</table>\n",
       "<p>572079 rows × 8 columns</p>\n",
       "</div>"
      ],
      "text/plain": [
       "                 departamento            municipio         armas_medios  \\\n",
       "0                   ATLANTICO    BARRANQUILLA (CT)          ARMA BLANCA   \n",
       "1                      BOYACA              DUITAMA          ARMA BLANCA   \n",
       "2                     CAQUETA          PUERTO RICO          ARMA BLANCA   \n",
       "3                    CASANARE                 MANÍ          ARMA BLANCA   \n",
       "4       SANTAFE DE BOGOTA D.C     BOGOTÁ D.C. (CT)          ARMA BLANCA   \n",
       "...                       ...                  ...                  ...   \n",
       "572074        VALLE DEL CAUCA              CARTAGO  SIN EMPLEO DE ARMAS   \n",
       "572075        VALLE DEL CAUCA              GUACARÍ  SIN EMPLEO DE ARMAS   \n",
       "572076        VALLE DEL CAUCA  GUADALAJARA DE BUGA  SIN EMPLEO DE ARMAS   \n",
       "572077        VALLE DEL CAUCA              PALMIRA  SIN EMPLEO DE ARMAS   \n",
       "572078        VALLE DEL CAUCA                YUMBO  SIN EMPLEO DE ARMAS   \n",
       "\n",
       "       fecha_hecho     genero grupo_etario  cantidad          cluster  \n",
       "0       2010-01-01  MASCULINO      ADULTOS         1      Riesgo Alto  \n",
       "1       2010-01-01   FEMENINO      ADULTOS         1      Riesgo Alto  \n",
       "2       2010-01-01  MASCULINO      ADULTOS         1  Riesgo Moderado  \n",
       "3       2010-01-01   FEMENINO      ADULTOS         1  Riesgo Moderado  \n",
       "4       2010-01-01   FEMENINO      ADULTOS         1      Riesgo Alto  \n",
       "...            ...        ...          ...       ...              ...  \n",
       "572074  2023-02-28   FEMENINO      ADULTOS         1      Riesgo Alto  \n",
       "572075  2023-02-28   FEMENINO      ADULTOS         1  Riesgo Moderado  \n",
       "572076  2023-02-28   FEMENINO      ADULTOS         1  Riesgo Moderado  \n",
       "572077  2023-02-28   FEMENINO      ADULTOS         2  Riesgo Moderado  \n",
       "572078  2023-02-28   FEMENINO      ADULTOS         1      Riesgo Bajo  \n",
       "\n",
       "[572079 rows x 8 columns]"
      ]
     },
     "execution_count": 3,
     "metadata": {},
     "output_type": "execute_result"
    }
   ],
   "source": [
    "risk_labels = {\n",
    "    0: 'Riesgo Moderado',\n",
    "    1: 'Riesgo Alto',\n",
    "    2: 'Riesgo Bajo'\n",
    "}\n",
    "\n",
    "# Asignación de etiquetas de riesgo a la columna 'clusters'\n",
    "df['cluster'] = df['cluster'].map(risk_labels)\n",
    "\n",
    "# Imprimir el DataFrame actualizado\n",
    "df"
   ]
  },
  {
   "cell_type": "markdown",
   "metadata": {},
   "source": [
    "## Muestra del 20%"
   ]
  },
  {
   "cell_type": "code",
   "execution_count": 26,
   "metadata": {},
   "outputs": [
    {
     "data": {
      "text/plain": [
       "year\n",
       "2010     22902\n",
       "2011     26863\n",
       "2012     32181\n",
       "2013     32838\n",
       "2014     47691\n",
       "2015     72921\n",
       "2016     82114\n",
       "2017     83651\n",
       "2018     79940\n",
       "2019     92550\n",
       "2020    109367\n",
       "2021     91319\n",
       "2022     94455\n",
       "2023     13594\n",
       "Name: cantidad, dtype: int64"
      ]
     },
     "execution_count": 26,
     "metadata": {},
     "output_type": "execute_result"
    }
   ],
   "source": [
    "df['fecha_hecho'] = pd.to_datetime(df['fecha_hecho'])\n",
    "df['year'] = df['fecha_hecho'].dt.year\n",
    "casos_por_year = df.groupby('year')['cantidad'].sum()\n",
    "casos_por_year"
   ]
  },
  {
   "cell_type": "code",
   "execution_count": 27,
   "metadata": {},
   "outputs": [
    {
     "data": {
      "text/plain": [
       "year\n",
       "2010     3050\n",
       "2011     3430\n",
       "2012     4118\n",
       "2013     4394\n",
       "2014     6003\n",
       "2015     9013\n",
       "2016     9925\n",
       "2017    10045\n",
       "2018     9520\n",
       "2019    10479\n",
       "2020    20494\n",
       "2021    11080\n",
       "2022    11237\n",
       "2023     1629\n",
       "Name: count, dtype: int64"
      ]
     },
     "execution_count": 27,
     "metadata": {},
     "output_type": "execute_result"
    }
   ],
   "source": [
    "df1 = df.groupby('year').sample(frac=0.2, random_state=1)\n",
    "casos_por_year = df1['year'].value_counts().sort_index()\n",
    "casos_por_year"
   ]
  },
  {
   "cell_type": "code",
   "execution_count": 28,
   "metadata": {},
   "outputs": [
    {
     "data": {
      "text/plain": [
       "year\n",
       "2015     35621\n",
       "2016     49624\n",
       "2017     50226\n",
       "2018     47598\n",
       "2019     52397\n",
       "2020    102469\n",
       "2021     55401\n",
       "2022     56183\n",
       "2023      8143\n",
       "Name: count, dtype: int64"
      ]
     },
     "execution_count": 28,
     "metadata": {},
     "output_type": "execute_result"
    }
   ],
   "source": [
    "df1 = df1.reset_index(drop=True)\n",
    "# Guardamos el 80% restante de los datos\n",
    "restante = df.drop(df1.index)\n",
    "casos_por_year = restante['year'].value_counts().sort_index()\n",
    "casos_por_year"
   ]
  },
  {
   "cell_type": "code",
   "execution_count": 29,
   "metadata": {},
   "outputs": [],
   "source": [
    "restante = restante.reset_index(drop=True)"
   ]
  },
  {
   "cell_type": "code",
   "execution_count": 30,
   "metadata": {},
   "outputs": [
    {
     "data": {
      "text/html": [
       "<div>\n",
       "<style scoped>\n",
       "    .dataframe tbody tr th:only-of-type {\n",
       "        vertical-align: middle;\n",
       "    }\n",
       "\n",
       "    .dataframe tbody tr th {\n",
       "        vertical-align: top;\n",
       "    }\n",
       "\n",
       "    .dataframe thead th {\n",
       "        text-align: right;\n",
       "    }\n",
       "</style>\n",
       "<table border=\"1\" class=\"dataframe\">\n",
       "  <thead>\n",
       "    <tr style=\"text-align: right;\">\n",
       "      <th></th>\n",
       "      <th>departamento</th>\n",
       "      <th>municipio</th>\n",
       "      <th>armas_medios</th>\n",
       "      <th>fecha_hecho</th>\n",
       "      <th>genero</th>\n",
       "      <th>grupo_etario</th>\n",
       "      <th>cantidad</th>\n",
       "      <th>cluster</th>\n",
       "      <th>year</th>\n",
       "    </tr>\n",
       "  </thead>\n",
       "  <tbody>\n",
       "    <tr>\n",
       "      <th>0</th>\n",
       "      <td>CALDAS</td>\n",
       "      <td>LA DORADA</td>\n",
       "      <td>ARMA BLANCA</td>\n",
       "      <td>2010-06-01</td>\n",
       "      <td>FEMENINO</td>\n",
       "      <td>MENORES</td>\n",
       "      <td>1</td>\n",
       "      <td>Riesgo Moderado</td>\n",
       "      <td>2010</td>\n",
       "    </tr>\n",
       "    <tr>\n",
       "      <th>1</th>\n",
       "      <td>HUILA</td>\n",
       "      <td>NEIVA (CT)</td>\n",
       "      <td>ARMA BLANCA</td>\n",
       "      <td>2010-11-29</td>\n",
       "      <td>FEMENINO</td>\n",
       "      <td>ADULTOS</td>\n",
       "      <td>2</td>\n",
       "      <td>Riesgo Moderado</td>\n",
       "      <td>2010</td>\n",
       "    </tr>\n",
       "    <tr>\n",
       "      <th>2</th>\n",
       "      <td>VALLE DEL CAUCA</td>\n",
       "      <td>CALI (CT)</td>\n",
       "      <td>ARMA BLANCA</td>\n",
       "      <td>2010-05-28</td>\n",
       "      <td>FEMENINO</td>\n",
       "      <td>ADULTOS</td>\n",
       "      <td>1</td>\n",
       "      <td>Riesgo Alto</td>\n",
       "      <td>2010</td>\n",
       "    </tr>\n",
       "    <tr>\n",
       "      <th>3</th>\n",
       "      <td>BOYACA</td>\n",
       "      <td>DUITAMA</td>\n",
       "      <td>Unknown</td>\n",
       "      <td>2010-08-22</td>\n",
       "      <td>FEMENINO</td>\n",
       "      <td>ADULTOS</td>\n",
       "      <td>1</td>\n",
       "      <td>Riesgo Alto</td>\n",
       "      <td>2010</td>\n",
       "    </tr>\n",
       "    <tr>\n",
       "      <th>4</th>\n",
       "      <td>SANTAFE DE BOGOTA D.C</td>\n",
       "      <td>BOGOTÁ D.C. (CT)</td>\n",
       "      <td>ARMA BLANCA</td>\n",
       "      <td>2010-11-25</td>\n",
       "      <td>MASCULINO</td>\n",
       "      <td>ADOLESCENTES</td>\n",
       "      <td>1</td>\n",
       "      <td>Riesgo Alto</td>\n",
       "      <td>2010</td>\n",
       "    </tr>\n",
       "    <tr>\n",
       "      <th>...</th>\n",
       "      <td>...</td>\n",
       "      <td>...</td>\n",
       "      <td>...</td>\n",
       "      <td>...</td>\n",
       "      <td>...</td>\n",
       "      <td>...</td>\n",
       "      <td>...</td>\n",
       "      <td>...</td>\n",
       "      <td>...</td>\n",
       "    </tr>\n",
       "    <tr>\n",
       "      <th>114412</th>\n",
       "      <td>AMAZONAS</td>\n",
       "      <td>LETICIA (CT)</td>\n",
       "      <td>SIN EMPLEO DE ARMAS</td>\n",
       "      <td>2023-02-24</td>\n",
       "      <td>FEMENINO</td>\n",
       "      <td>ADULTOS</td>\n",
       "      <td>1</td>\n",
       "      <td>Riesgo Moderado</td>\n",
       "      <td>2023</td>\n",
       "    </tr>\n",
       "    <tr>\n",
       "      <th>114413</th>\n",
       "      <td>SANTANDER</td>\n",
       "      <td>BARRANCABERMEJA</td>\n",
       "      <td>ARMA BLANCA</td>\n",
       "      <td>2023-01-22</td>\n",
       "      <td>FEMENINO</td>\n",
       "      <td>ADULTOS</td>\n",
       "      <td>1</td>\n",
       "      <td>Riesgo Alto</td>\n",
       "      <td>2023</td>\n",
       "    </tr>\n",
       "    <tr>\n",
       "      <th>114414</th>\n",
       "      <td>CHOCO</td>\n",
       "      <td>QUIBDÓ (CT)</td>\n",
       "      <td>ARMA BLANCA</td>\n",
       "      <td>2023-02-26</td>\n",
       "      <td>FEMENINO</td>\n",
       "      <td>ADULTOS</td>\n",
       "      <td>1</td>\n",
       "      <td>Riesgo Moderado</td>\n",
       "      <td>2023</td>\n",
       "    </tr>\n",
       "    <tr>\n",
       "      <th>114415</th>\n",
       "      <td>CAUCA</td>\n",
       "      <td>PAEZ</td>\n",
       "      <td>SIN EMPLEO DE ARMAS</td>\n",
       "      <td>2023-01-15</td>\n",
       "      <td>FEMENINO</td>\n",
       "      <td>ADULTOS</td>\n",
       "      <td>1</td>\n",
       "      <td>Riesgo Moderado</td>\n",
       "      <td>2023</td>\n",
       "    </tr>\n",
       "    <tr>\n",
       "      <th>114416</th>\n",
       "      <td>VALLE DEL CAUCA</td>\n",
       "      <td>CALI (CT)</td>\n",
       "      <td>ARMA BLANCA</td>\n",
       "      <td>2023-02-24</td>\n",
       "      <td>FEMENINO</td>\n",
       "      <td>ADULTOS</td>\n",
       "      <td>1</td>\n",
       "      <td>Riesgo Alto</td>\n",
       "      <td>2023</td>\n",
       "    </tr>\n",
       "  </tbody>\n",
       "</table>\n",
       "<p>114417 rows × 9 columns</p>\n",
       "</div>"
      ],
      "text/plain": [
       "                 departamento         municipio         armas_medios  \\\n",
       "0                      CALDAS         LA DORADA          ARMA BLANCA   \n",
       "1                       HUILA        NEIVA (CT)          ARMA BLANCA   \n",
       "2             VALLE DEL CAUCA         CALI (CT)          ARMA BLANCA   \n",
       "3                      BOYACA           DUITAMA              Unknown   \n",
       "4       SANTAFE DE BOGOTA D.C  BOGOTÁ D.C. (CT)          ARMA BLANCA   \n",
       "...                       ...               ...                  ...   \n",
       "114412               AMAZONAS      LETICIA (CT)  SIN EMPLEO DE ARMAS   \n",
       "114413              SANTANDER   BARRANCABERMEJA          ARMA BLANCA   \n",
       "114414                  CHOCO       QUIBDÓ (CT)          ARMA BLANCA   \n",
       "114415                  CAUCA              PAEZ  SIN EMPLEO DE ARMAS   \n",
       "114416        VALLE DEL CAUCA         CALI (CT)          ARMA BLANCA   \n",
       "\n",
       "       fecha_hecho     genero  grupo_etario  cantidad          cluster  year  \n",
       "0       2010-06-01   FEMENINO       MENORES         1  Riesgo Moderado  2010  \n",
       "1       2010-11-29   FEMENINO       ADULTOS         2  Riesgo Moderado  2010  \n",
       "2       2010-05-28   FEMENINO       ADULTOS         1      Riesgo Alto  2010  \n",
       "3       2010-08-22   FEMENINO       ADULTOS         1      Riesgo Alto  2010  \n",
       "4       2010-11-25  MASCULINO  ADOLESCENTES         1      Riesgo Alto  2010  \n",
       "...            ...        ...           ...       ...              ...   ...  \n",
       "114412  2023-02-24   FEMENINO       ADULTOS         1  Riesgo Moderado  2023  \n",
       "114413  2023-01-22   FEMENINO       ADULTOS         1      Riesgo Alto  2023  \n",
       "114414  2023-02-26   FEMENINO       ADULTOS         1  Riesgo Moderado  2023  \n",
       "114415  2023-01-15   FEMENINO       ADULTOS         1  Riesgo Moderado  2023  \n",
       "114416  2023-02-24   FEMENINO       ADULTOS         1      Riesgo Alto  2023  \n",
       "\n",
       "[114417 rows x 9 columns]"
      ]
     },
     "execution_count": 30,
     "metadata": {},
     "output_type": "execute_result"
    }
   ],
   "source": [
    "df1"
   ]
  },
  {
   "cell_type": "code",
   "execution_count": 31,
   "metadata": {},
   "outputs": [],
   "source": [
    "df1.drop(columns=['departamento', 'fecha_hecho', 'year'], inplace=True)"
   ]
  },
  {
   "cell_type": "markdown",
   "metadata": {},
   "source": [
    "## Entrenamiento y prueba"
   ]
  },
  {
   "cell_type": "code",
   "execution_count": 34,
   "metadata": {},
   "outputs": [],
   "source": [
    "from sklearn.preprocessing import OneHotEncoder\n",
    "from sklearn.model_selection import train_test_split\n",
    "\n",
    "# Suponiendo que 'municipio', 'armas_medios', 'genero', 'grupo_etario', 'cluster' son categóricas\n",
    "categorical_columns = ['municipio', 'armas_medios', 'genero', 'grupo_etario', 'cluster']\n",
    "\n",
    "# Utilizando One-Hot Encoding para codificar las variables categóricas\n",
    "encoder = OneHotEncoder(handle_unknown='ignore')\n",
    "X_encoded = encoder.fit_transform(df1[categorical_columns])\n",
    "\n",
    "# Convertir la matriz dispersa a DataFrame\n",
    "X_encoded_df = pd.DataFrame.sparse.from_spmatrix(X_encoded, columns=encoder.get_feature_names_out(categorical_columns))\n",
    "\n",
    "# Concatenar las variables codificadas con las variables numéricas (si las hay)\n",
    "X = pd.concat([X_encoded_df, df1.drop(columns=categorical_columns)], axis=1)\n",
    "\n",
    "# Definir la variable dependiente\n",
    "y = df1['cantidad']\n",
    "\n",
    "# Dividir los datos en conjuntos de entrenamiento y prueba\n",
    "X_train, X_test, y_train, y_test = train_test_split(X, y, test_size=0.2, random_state=42)\n"
   ]
  },
  {
   "cell_type": "markdown",
   "metadata": {},
   "source": [
    "## Modelos de Regresión\n",
    "\n",
    "El objetivo de la realización de modelos de regresión es predecir la cantidad de casos que pueden ocurrir en una zona teniendo en cuenta atributos como el tipo de arma, el género, el grupo etario y el tipo de riesgo de cada crimen."
   ]
  },
  {
   "cell_type": "code",
   "execution_count": 36,
   "metadata": {},
   "outputs": [
    {
     "name": "stdout",
     "output_type": "stream",
     "text": [
      "Training Lasso...\n"
     ]
    },
    {
     "name": "stderr",
     "output_type": "stream",
     "text": [
      "c:\\Users\\lisap\\miniconda3\\envs\\ml_venv\\lib\\site-packages\\sklearn\\utils\\validation.py:869: UserWarning: pandas.DataFrame with sparse columns found.It will be converted to a dense numpy array.\n",
      "  warnings.warn(\n",
      "c:\\Users\\lisap\\miniconda3\\envs\\ml_venv\\lib\\site-packages\\sklearn\\utils\\validation.py:869: UserWarning: pandas.DataFrame with sparse columns found.It will be converted to a dense numpy array.\n",
      "  warnings.warn(\n",
      "c:\\Users\\lisap\\miniconda3\\envs\\ml_venv\\lib\\site-packages\\sklearn\\utils\\validation.py:869: UserWarning: pandas.DataFrame with sparse columns found.It will be converted to a dense numpy array.\n",
      "  warnings.warn(\n",
      "c:\\Users\\lisap\\miniconda3\\envs\\ml_venv\\lib\\site-packages\\sklearn\\utils\\validation.py:869: UserWarning: pandas.DataFrame with sparse columns found.It will be converted to a dense numpy array.\n",
      "  warnings.warn(\n",
      "c:\\Users\\lisap\\miniconda3\\envs\\ml_venv\\lib\\site-packages\\sklearn\\utils\\validation.py:869: UserWarning: pandas.DataFrame with sparse columns found.It will be converted to a dense numpy array.\n",
      "  warnings.warn(\n",
      "c:\\Users\\lisap\\miniconda3\\envs\\ml_venv\\lib\\site-packages\\sklearn\\utils\\validation.py:869: UserWarning: pandas.DataFrame with sparse columns found.It will be converted to a dense numpy array.\n",
      "  warnings.warn(\n",
      "c:\\Users\\lisap\\miniconda3\\envs\\ml_venv\\lib\\site-packages\\sklearn\\utils\\validation.py:869: UserWarning: pandas.DataFrame with sparse columns found.It will be converted to a dense numpy array.\n",
      "  warnings.warn(\n",
      "c:\\Users\\lisap\\miniconda3\\envs\\ml_venv\\lib\\site-packages\\sklearn\\utils\\validation.py:869: UserWarning: pandas.DataFrame with sparse columns found.It will be converted to a dense numpy array.\n",
      "  warnings.warn(\n",
      "c:\\Users\\lisap\\miniconda3\\envs\\ml_venv\\lib\\site-packages\\sklearn\\utils\\validation.py:869: UserWarning: pandas.DataFrame with sparse columns found.It will be converted to a dense numpy array.\n",
      "  warnings.warn(\n",
      "c:\\Users\\lisap\\miniconda3\\envs\\ml_venv\\lib\\site-packages\\sklearn\\utils\\validation.py:869: UserWarning: pandas.DataFrame with sparse columns found.It will be converted to a dense numpy array.\n",
      "  warnings.warn(\n",
      "c:\\Users\\lisap\\miniconda3\\envs\\ml_venv\\lib\\site-packages\\sklearn\\utils\\validation.py:869: UserWarning: pandas.DataFrame with sparse columns found.It will be converted to a dense numpy array.\n",
      "  warnings.warn(\n",
      "c:\\Users\\lisap\\miniconda3\\envs\\ml_venv\\lib\\site-packages\\sklearn\\utils\\validation.py:869: UserWarning: pandas.DataFrame with sparse columns found.It will be converted to a dense numpy array.\n",
      "  warnings.warn(\n",
      "c:\\Users\\lisap\\miniconda3\\envs\\ml_venv\\lib\\site-packages\\sklearn\\utils\\validation.py:869: UserWarning: pandas.DataFrame with sparse columns found.It will be converted to a dense numpy array.\n",
      "  warnings.warn(\n",
      "c:\\Users\\lisap\\miniconda3\\envs\\ml_venv\\lib\\site-packages\\sklearn\\utils\\validation.py:869: UserWarning: pandas.DataFrame with sparse columns found.It will be converted to a dense numpy array.\n",
      "  warnings.warn(\n",
      "c:\\Users\\lisap\\miniconda3\\envs\\ml_venv\\lib\\site-packages\\sklearn\\utils\\validation.py:869: UserWarning: pandas.DataFrame with sparse columns found.It will be converted to a dense numpy array.\n",
      "  warnings.warn(\n",
      "c:\\Users\\lisap\\miniconda3\\envs\\ml_venv\\lib\\site-packages\\sklearn\\utils\\validation.py:869: UserWarning: pandas.DataFrame with sparse columns found.It will be converted to a dense numpy array.\n",
      "  warnings.warn(\n",
      "c:\\Users\\lisap\\miniconda3\\envs\\ml_venv\\lib\\site-packages\\sklearn\\utils\\validation.py:869: UserWarning: pandas.DataFrame with sparse columns found.It will be converted to a dense numpy array.\n",
      "  warnings.warn(\n",
      "c:\\Users\\lisap\\miniconda3\\envs\\ml_venv\\lib\\site-packages\\sklearn\\utils\\validation.py:869: UserWarning: pandas.DataFrame with sparse columns found.It will be converted to a dense numpy array.\n",
      "  warnings.warn(\n",
      "c:\\Users\\lisap\\miniconda3\\envs\\ml_venv\\lib\\site-packages\\sklearn\\utils\\validation.py:869: UserWarning: pandas.DataFrame with sparse columns found.It will be converted to a dense numpy array.\n",
      "  warnings.warn(\n",
      "c:\\Users\\lisap\\miniconda3\\envs\\ml_venv\\lib\\site-packages\\sklearn\\utils\\validation.py:869: UserWarning: pandas.DataFrame with sparse columns found.It will be converted to a dense numpy array.\n",
      "  warnings.warn(\n",
      "c:\\Users\\lisap\\miniconda3\\envs\\ml_venv\\lib\\site-packages\\sklearn\\utils\\validation.py:869: UserWarning: pandas.DataFrame with sparse columns found.It will be converted to a dense numpy array.\n",
      "  warnings.warn(\n",
      "c:\\Users\\lisap\\miniconda3\\envs\\ml_venv\\lib\\site-packages\\sklearn\\utils\\validation.py:869: UserWarning: pandas.DataFrame with sparse columns found.It will be converted to a dense numpy array.\n",
      "  warnings.warn(\n",
      "c:\\Users\\lisap\\miniconda3\\envs\\ml_venv\\lib\\site-packages\\sklearn\\utils\\validation.py:869: UserWarning: pandas.DataFrame with sparse columns found.It will be converted to a dense numpy array.\n",
      "  warnings.warn(\n",
      "c:\\Users\\lisap\\miniconda3\\envs\\ml_venv\\lib\\site-packages\\sklearn\\utils\\validation.py:869: UserWarning: pandas.DataFrame with sparse columns found.It will be converted to a dense numpy array.\n",
      "  warnings.warn(\n",
      "c:\\Users\\lisap\\miniconda3\\envs\\ml_venv\\lib\\site-packages\\sklearn\\utils\\validation.py:869: UserWarning: pandas.DataFrame with sparse columns found.It will be converted to a dense numpy array.\n",
      "  warnings.warn(\n",
      "c:\\Users\\lisap\\miniconda3\\envs\\ml_venv\\lib\\site-packages\\sklearn\\utils\\validation.py:869: UserWarning: pandas.DataFrame with sparse columns found.It will be converted to a dense numpy array.\n",
      "  warnings.warn(\n",
      "c:\\Users\\lisap\\miniconda3\\envs\\ml_venv\\lib\\site-packages\\sklearn\\utils\\validation.py:869: UserWarning: pandas.DataFrame with sparse columns found.It will be converted to a dense numpy array.\n",
      "  warnings.warn(\n",
      "c:\\Users\\lisap\\miniconda3\\envs\\ml_venv\\lib\\site-packages\\sklearn\\utils\\validation.py:869: UserWarning: pandas.DataFrame with sparse columns found.It will be converted to a dense numpy array.\n",
      "  warnings.warn(\n",
      "c:\\Users\\lisap\\miniconda3\\envs\\ml_venv\\lib\\site-packages\\sklearn\\utils\\validation.py:869: UserWarning: pandas.DataFrame with sparse columns found.It will be converted to a dense numpy array.\n",
      "  warnings.warn(\n",
      "c:\\Users\\lisap\\miniconda3\\envs\\ml_venv\\lib\\site-packages\\sklearn\\utils\\validation.py:869: UserWarning: pandas.DataFrame with sparse columns found.It will be converted to a dense numpy array.\n",
      "  warnings.warn(\n",
      "c:\\Users\\lisap\\miniconda3\\envs\\ml_venv\\lib\\site-packages\\sklearn\\utils\\validation.py:869: UserWarning: pandas.DataFrame with sparse columns found.It will be converted to a dense numpy array.\n",
      "  warnings.warn(\n",
      "c:\\Users\\lisap\\miniconda3\\envs\\ml_venv\\lib\\site-packages\\sklearn\\utils\\validation.py:869: UserWarning: pandas.DataFrame with sparse columns found.It will be converted to a dense numpy array.\n",
      "  warnings.warn(\n",
      "c:\\Users\\lisap\\miniconda3\\envs\\ml_venv\\lib\\site-packages\\sklearn\\utils\\validation.py:869: UserWarning: pandas.DataFrame with sparse columns found.It will be converted to a dense numpy array.\n",
      "  warnings.warn(\n",
      "c:\\Users\\lisap\\miniconda3\\envs\\ml_venv\\lib\\site-packages\\sklearn\\utils\\validation.py:869: UserWarning: pandas.DataFrame with sparse columns found.It will be converted to a dense numpy array.\n",
      "  warnings.warn(\n",
      "c:\\Users\\lisap\\miniconda3\\envs\\ml_venv\\lib\\site-packages\\sklearn\\utils\\validation.py:869: UserWarning: pandas.DataFrame with sparse columns found.It will be converted to a dense numpy array.\n",
      "  warnings.warn(\n",
      "c:\\Users\\lisap\\miniconda3\\envs\\ml_venv\\lib\\site-packages\\sklearn\\utils\\validation.py:869: UserWarning: pandas.DataFrame with sparse columns found.It will be converted to a dense numpy array.\n",
      "  warnings.warn(\n",
      "c:\\Users\\lisap\\miniconda3\\envs\\ml_venv\\lib\\site-packages\\sklearn\\utils\\validation.py:869: UserWarning: pandas.DataFrame with sparse columns found.It will be converted to a dense numpy array.\n",
      "  warnings.warn(\n",
      "c:\\Users\\lisap\\miniconda3\\envs\\ml_venv\\lib\\site-packages\\sklearn\\utils\\validation.py:869: UserWarning: pandas.DataFrame with sparse columns found.It will be converted to a dense numpy array.\n",
      "  warnings.warn(\n",
      "c:\\Users\\lisap\\miniconda3\\envs\\ml_venv\\lib\\site-packages\\sklearn\\utils\\validation.py:869: UserWarning: pandas.DataFrame with sparse columns found.It will be converted to a dense numpy array.\n",
      "  warnings.warn(\n",
      "c:\\Users\\lisap\\miniconda3\\envs\\ml_venv\\lib\\site-packages\\sklearn\\utils\\validation.py:869: UserWarning: pandas.DataFrame with sparse columns found.It will be converted to a dense numpy array.\n",
      "  warnings.warn(\n",
      "c:\\Users\\lisap\\miniconda3\\envs\\ml_venv\\lib\\site-packages\\sklearn\\utils\\validation.py:869: UserWarning: pandas.DataFrame with sparse columns found.It will be converted to a dense numpy array.\n",
      "  warnings.warn(\n"
     ]
    },
    {
     "name": "stdout",
     "output_type": "stream",
     "text": [
      "Best parameters: {'alpha': 0.01}\n",
      "Best cross-validation score: 3.5948202816793364e-05\n"
     ]
    },
    {
     "name": "stderr",
     "output_type": "stream",
     "text": [
      "c:\\Users\\lisap\\miniconda3\\envs\\ml_venv\\lib\\site-packages\\sklearn\\utils\\validation.py:869: UserWarning: pandas.DataFrame with sparse columns found.It will be converted to a dense numpy array.\n",
      "  warnings.warn(\n"
     ]
    },
    {
     "name": "stdout",
     "output_type": "stream",
     "text": [
      "Test set RMSE: 0.006066584011539349\n",
      "\n",
      "Trained Lasso model saved as Lasso_model.pkl\n",
      "\n",
      "Training Random Forest...\n"
     ]
    },
    {
     "name": "stderr",
     "output_type": "stream",
     "text": [
      "c:\\Users\\lisap\\miniconda3\\envs\\ml_venv\\lib\\site-packages\\sklearn\\utils\\validation.py:869: UserWarning: pandas.DataFrame with sparse columns found.It will be converted to a dense numpy array.\n",
      "  warnings.warn(\n",
      "c:\\Users\\lisap\\miniconda3\\envs\\ml_venv\\lib\\site-packages\\sklearn\\utils\\validation.py:869: UserWarning: pandas.DataFrame with sparse columns found.It will be converted to a dense numpy array.\n",
      "  warnings.warn(\n",
      "c:\\Users\\lisap\\miniconda3\\envs\\ml_venv\\lib\\site-packages\\sklearn\\utils\\validation.py:869: UserWarning: pandas.DataFrame with sparse columns found.It will be converted to a dense numpy array.\n",
      "  warnings.warn(\n",
      "c:\\Users\\lisap\\miniconda3\\envs\\ml_venv\\lib\\site-packages\\sklearn\\utils\\validation.py:869: UserWarning: pandas.DataFrame with sparse columns found.It will be converted to a dense numpy array.\n",
      "  warnings.warn(\n",
      "c:\\Users\\lisap\\miniconda3\\envs\\ml_venv\\lib\\site-packages\\sklearn\\utils\\validation.py:869: UserWarning: pandas.DataFrame with sparse columns found.It will be converted to a dense numpy array.\n",
      "  warnings.warn(\n",
      "c:\\Users\\lisap\\miniconda3\\envs\\ml_venv\\lib\\site-packages\\sklearn\\utils\\validation.py:869: UserWarning: pandas.DataFrame with sparse columns found.It will be converted to a dense numpy array.\n",
      "  warnings.warn(\n",
      "c:\\Users\\lisap\\miniconda3\\envs\\ml_venv\\lib\\site-packages\\sklearn\\utils\\validation.py:869: UserWarning: pandas.DataFrame with sparse columns found.It will be converted to a dense numpy array.\n",
      "  warnings.warn(\n",
      "c:\\Users\\lisap\\miniconda3\\envs\\ml_venv\\lib\\site-packages\\sklearn\\utils\\validation.py:869: UserWarning: pandas.DataFrame with sparse columns found.It will be converted to a dense numpy array.\n",
      "  warnings.warn(\n",
      "c:\\Users\\lisap\\miniconda3\\envs\\ml_venv\\lib\\site-packages\\sklearn\\utils\\validation.py:869: UserWarning: pandas.DataFrame with sparse columns found.It will be converted to a dense numpy array.\n",
      "  warnings.warn(\n",
      "c:\\Users\\lisap\\miniconda3\\envs\\ml_venv\\lib\\site-packages\\sklearn\\utils\\validation.py:869: UserWarning: pandas.DataFrame with sparse columns found.It will be converted to a dense numpy array.\n",
      "  warnings.warn(\n",
      "c:\\Users\\lisap\\miniconda3\\envs\\ml_venv\\lib\\site-packages\\sklearn\\utils\\validation.py:869: UserWarning: pandas.DataFrame with sparse columns found.It will be converted to a dense numpy array.\n",
      "  warnings.warn(\n",
      "c:\\Users\\lisap\\miniconda3\\envs\\ml_venv\\lib\\site-packages\\sklearn\\utils\\validation.py:869: UserWarning: pandas.DataFrame with sparse columns found.It will be converted to a dense numpy array.\n",
      "  warnings.warn(\n",
      "c:\\Users\\lisap\\miniconda3\\envs\\ml_venv\\lib\\site-packages\\sklearn\\utils\\validation.py:869: UserWarning: pandas.DataFrame with sparse columns found.It will be converted to a dense numpy array.\n",
      "  warnings.warn(\n",
      "c:\\Users\\lisap\\miniconda3\\envs\\ml_venv\\lib\\site-packages\\sklearn\\utils\\validation.py:869: UserWarning: pandas.DataFrame with sparse columns found.It will be converted to a dense numpy array.\n",
      "  warnings.warn(\n",
      "c:\\Users\\lisap\\miniconda3\\envs\\ml_venv\\lib\\site-packages\\sklearn\\utils\\validation.py:869: UserWarning: pandas.DataFrame with sparse columns found.It will be converted to a dense numpy array.\n",
      "  warnings.warn(\n",
      "c:\\Users\\lisap\\miniconda3\\envs\\ml_venv\\lib\\site-packages\\sklearn\\utils\\validation.py:869: UserWarning: pandas.DataFrame with sparse columns found.It will be converted to a dense numpy array.\n",
      "  warnings.warn(\n",
      "c:\\Users\\lisap\\miniconda3\\envs\\ml_venv\\lib\\site-packages\\sklearn\\utils\\validation.py:869: UserWarning: pandas.DataFrame with sparse columns found.It will be converted to a dense numpy array.\n",
      "  warnings.warn(\n",
      "c:\\Users\\lisap\\miniconda3\\envs\\ml_venv\\lib\\site-packages\\sklearn\\utils\\validation.py:869: UserWarning: pandas.DataFrame with sparse columns found.It will be converted to a dense numpy array.\n",
      "  warnings.warn(\n",
      "c:\\Users\\lisap\\miniconda3\\envs\\ml_venv\\lib\\site-packages\\sklearn\\utils\\validation.py:869: UserWarning: pandas.DataFrame with sparse columns found.It will be converted to a dense numpy array.\n",
      "  warnings.warn(\n",
      "c:\\Users\\lisap\\miniconda3\\envs\\ml_venv\\lib\\site-packages\\sklearn\\utils\\validation.py:869: UserWarning: pandas.DataFrame with sparse columns found.It will be converted to a dense numpy array.\n",
      "  warnings.warn(\n",
      "c:\\Users\\lisap\\miniconda3\\envs\\ml_venv\\lib\\site-packages\\sklearn\\utils\\validation.py:869: UserWarning: pandas.DataFrame with sparse columns found.It will be converted to a dense numpy array.\n",
      "  warnings.warn(\n",
      "c:\\Users\\lisap\\miniconda3\\envs\\ml_venv\\lib\\site-packages\\sklearn\\utils\\validation.py:869: UserWarning: pandas.DataFrame with sparse columns found.It will be converted to a dense numpy array.\n",
      "  warnings.warn(\n",
      "c:\\Users\\lisap\\miniconda3\\envs\\ml_venv\\lib\\site-packages\\sklearn\\utils\\validation.py:869: UserWarning: pandas.DataFrame with sparse columns found.It will be converted to a dense numpy array.\n",
      "  warnings.warn(\n",
      "c:\\Users\\lisap\\miniconda3\\envs\\ml_venv\\lib\\site-packages\\sklearn\\utils\\validation.py:869: UserWarning: pandas.DataFrame with sparse columns found.It will be converted to a dense numpy array.\n",
      "  warnings.warn(\n",
      "c:\\Users\\lisap\\miniconda3\\envs\\ml_venv\\lib\\site-packages\\sklearn\\utils\\validation.py:869: UserWarning: pandas.DataFrame with sparse columns found.It will be converted to a dense numpy array.\n",
      "  warnings.warn(\n",
      "c:\\Users\\lisap\\miniconda3\\envs\\ml_venv\\lib\\site-packages\\sklearn\\utils\\validation.py:869: UserWarning: pandas.DataFrame with sparse columns found.It will be converted to a dense numpy array.\n",
      "  warnings.warn(\n",
      "c:\\Users\\lisap\\miniconda3\\envs\\ml_venv\\lib\\site-packages\\sklearn\\utils\\validation.py:869: UserWarning: pandas.DataFrame with sparse columns found.It will be converted to a dense numpy array.\n",
      "  warnings.warn(\n",
      "c:\\Users\\lisap\\miniconda3\\envs\\ml_venv\\lib\\site-packages\\sklearn\\utils\\validation.py:869: UserWarning: pandas.DataFrame with sparse columns found.It will be converted to a dense numpy array.\n",
      "  warnings.warn(\n",
      "c:\\Users\\lisap\\miniconda3\\envs\\ml_venv\\lib\\site-packages\\sklearn\\utils\\validation.py:869: UserWarning: pandas.DataFrame with sparse columns found.It will be converted to a dense numpy array.\n",
      "  warnings.warn(\n",
      "c:\\Users\\lisap\\miniconda3\\envs\\ml_venv\\lib\\site-packages\\sklearn\\utils\\validation.py:869: UserWarning: pandas.DataFrame with sparse columns found.It will be converted to a dense numpy array.\n",
      "  warnings.warn(\n",
      "c:\\Users\\lisap\\miniconda3\\envs\\ml_venv\\lib\\site-packages\\sklearn\\utils\\validation.py:869: UserWarning: pandas.DataFrame with sparse columns found.It will be converted to a dense numpy array.\n",
      "  warnings.warn(\n",
      "c:\\Users\\lisap\\miniconda3\\envs\\ml_venv\\lib\\site-packages\\sklearn\\utils\\validation.py:869: UserWarning: pandas.DataFrame with sparse columns found.It will be converted to a dense numpy array.\n",
      "  warnings.warn(\n",
      "c:\\Users\\lisap\\miniconda3\\envs\\ml_venv\\lib\\site-packages\\sklearn\\utils\\validation.py:869: UserWarning: pandas.DataFrame with sparse columns found.It will be converted to a dense numpy array.\n",
      "  warnings.warn(\n",
      "c:\\Users\\lisap\\miniconda3\\envs\\ml_venv\\lib\\site-packages\\sklearn\\utils\\validation.py:869: UserWarning: pandas.DataFrame with sparse columns found.It will be converted to a dense numpy array.\n",
      "  warnings.warn(\n",
      "c:\\Users\\lisap\\miniconda3\\envs\\ml_venv\\lib\\site-packages\\sklearn\\utils\\validation.py:869: UserWarning: pandas.DataFrame with sparse columns found.It will be converted to a dense numpy array.\n",
      "  warnings.warn(\n",
      "c:\\Users\\lisap\\miniconda3\\envs\\ml_venv\\lib\\site-packages\\sklearn\\utils\\validation.py:869: UserWarning: pandas.DataFrame with sparse columns found.It will be converted to a dense numpy array.\n",
      "  warnings.warn(\n",
      "c:\\Users\\lisap\\miniconda3\\envs\\ml_venv\\lib\\site-packages\\sklearn\\utils\\validation.py:869: UserWarning: pandas.DataFrame with sparse columns found.It will be converted to a dense numpy array.\n",
      "  warnings.warn(\n",
      "c:\\Users\\lisap\\miniconda3\\envs\\ml_venv\\lib\\site-packages\\sklearn\\utils\\validation.py:869: UserWarning: pandas.DataFrame with sparse columns found.It will be converted to a dense numpy array.\n",
      "  warnings.warn(\n",
      "c:\\Users\\lisap\\miniconda3\\envs\\ml_venv\\lib\\site-packages\\sklearn\\utils\\validation.py:869: UserWarning: pandas.DataFrame with sparse columns found.It will be converted to a dense numpy array.\n",
      "  warnings.warn(\n",
      "c:\\Users\\lisap\\miniconda3\\envs\\ml_venv\\lib\\site-packages\\sklearn\\utils\\validation.py:869: UserWarning: pandas.DataFrame with sparse columns found.It will be converted to a dense numpy array.\n",
      "  warnings.warn(\n",
      "c:\\Users\\lisap\\miniconda3\\envs\\ml_venv\\lib\\site-packages\\sklearn\\utils\\validation.py:869: UserWarning: pandas.DataFrame with sparse columns found.It will be converted to a dense numpy array.\n",
      "  warnings.warn(\n",
      "c:\\Users\\lisap\\miniconda3\\envs\\ml_venv\\lib\\site-packages\\sklearn\\utils\\validation.py:869: UserWarning: pandas.DataFrame with sparse columns found.It will be converted to a dense numpy array.\n",
      "  warnings.warn(\n",
      "c:\\Users\\lisap\\miniconda3\\envs\\ml_venv\\lib\\site-packages\\sklearn\\utils\\validation.py:869: UserWarning: pandas.DataFrame with sparse columns found.It will be converted to a dense numpy array.\n",
      "  warnings.warn(\n",
      "c:\\Users\\lisap\\miniconda3\\envs\\ml_venv\\lib\\site-packages\\sklearn\\utils\\validation.py:869: UserWarning: pandas.DataFrame with sparse columns found.It will be converted to a dense numpy array.\n",
      "  warnings.warn(\n",
      "c:\\Users\\lisap\\miniconda3\\envs\\ml_venv\\lib\\site-packages\\sklearn\\utils\\validation.py:869: UserWarning: pandas.DataFrame with sparse columns found.It will be converted to a dense numpy array.\n",
      "  warnings.warn(\n",
      "c:\\Users\\lisap\\miniconda3\\envs\\ml_venv\\lib\\site-packages\\sklearn\\utils\\validation.py:869: UserWarning: pandas.DataFrame with sparse columns found.It will be converted to a dense numpy array.\n",
      "  warnings.warn(\n",
      "c:\\Users\\lisap\\miniconda3\\envs\\ml_venv\\lib\\site-packages\\sklearn\\utils\\validation.py:869: UserWarning: pandas.DataFrame with sparse columns found.It will be converted to a dense numpy array.\n",
      "  warnings.warn(\n",
      "c:\\Users\\lisap\\miniconda3\\envs\\ml_venv\\lib\\site-packages\\sklearn\\utils\\validation.py:869: UserWarning: pandas.DataFrame with sparse columns found.It will be converted to a dense numpy array.\n",
      "  warnings.warn(\n",
      "c:\\Users\\lisap\\miniconda3\\envs\\ml_venv\\lib\\site-packages\\sklearn\\utils\\validation.py:869: UserWarning: pandas.DataFrame with sparse columns found.It will be converted to a dense numpy array.\n",
      "  warnings.warn(\n",
      "c:\\Users\\lisap\\miniconda3\\envs\\ml_venv\\lib\\site-packages\\sklearn\\utils\\validation.py:869: UserWarning: pandas.DataFrame with sparse columns found.It will be converted to a dense numpy array.\n",
      "  warnings.warn(\n",
      "c:\\Users\\lisap\\miniconda3\\envs\\ml_venv\\lib\\site-packages\\sklearn\\utils\\validation.py:869: UserWarning: pandas.DataFrame with sparse columns found.It will be converted to a dense numpy array.\n",
      "  warnings.warn(\n",
      "c:\\Users\\lisap\\miniconda3\\envs\\ml_venv\\lib\\site-packages\\sklearn\\utils\\validation.py:869: UserWarning: pandas.DataFrame with sparse columns found.It will be converted to a dense numpy array.\n",
      "  warnings.warn(\n",
      "c:\\Users\\lisap\\miniconda3\\envs\\ml_venv\\lib\\site-packages\\sklearn\\utils\\validation.py:869: UserWarning: pandas.DataFrame with sparse columns found.It will be converted to a dense numpy array.\n",
      "  warnings.warn(\n",
      "c:\\Users\\lisap\\miniconda3\\envs\\ml_venv\\lib\\site-packages\\sklearn\\utils\\validation.py:869: UserWarning: pandas.DataFrame with sparse columns found.It will be converted to a dense numpy array.\n",
      "  warnings.warn(\n",
      "c:\\Users\\lisap\\miniconda3\\envs\\ml_venv\\lib\\site-packages\\sklearn\\utils\\validation.py:869: UserWarning: pandas.DataFrame with sparse columns found.It will be converted to a dense numpy array.\n",
      "  warnings.warn(\n",
      "c:\\Users\\lisap\\miniconda3\\envs\\ml_venv\\lib\\site-packages\\sklearn\\utils\\validation.py:869: UserWarning: pandas.DataFrame with sparse columns found.It will be converted to a dense numpy array.\n",
      "  warnings.warn(\n",
      "c:\\Users\\lisap\\miniconda3\\envs\\ml_venv\\lib\\site-packages\\sklearn\\utils\\validation.py:869: UserWarning: pandas.DataFrame with sparse columns found.It will be converted to a dense numpy array.\n",
      "  warnings.warn(\n",
      "c:\\Users\\lisap\\miniconda3\\envs\\ml_venv\\lib\\site-packages\\sklearn\\utils\\validation.py:869: UserWarning: pandas.DataFrame with sparse columns found.It will be converted to a dense numpy array.\n",
      "  warnings.warn(\n",
      "c:\\Users\\lisap\\miniconda3\\envs\\ml_venv\\lib\\site-packages\\sklearn\\utils\\validation.py:869: UserWarning: pandas.DataFrame with sparse columns found.It will be converted to a dense numpy array.\n",
      "  warnings.warn(\n",
      "c:\\Users\\lisap\\miniconda3\\envs\\ml_venv\\lib\\site-packages\\sklearn\\utils\\validation.py:869: UserWarning: pandas.DataFrame with sparse columns found.It will be converted to a dense numpy array.\n",
      "  warnings.warn(\n",
      "c:\\Users\\lisap\\miniconda3\\envs\\ml_venv\\lib\\site-packages\\sklearn\\utils\\validation.py:869: UserWarning: pandas.DataFrame with sparse columns found.It will be converted to a dense numpy array.\n",
      "  warnings.warn(\n",
      "c:\\Users\\lisap\\miniconda3\\envs\\ml_venv\\lib\\site-packages\\sklearn\\utils\\validation.py:869: UserWarning: pandas.DataFrame with sparse columns found.It will be converted to a dense numpy array.\n",
      "  warnings.warn(\n",
      "c:\\Users\\lisap\\miniconda3\\envs\\ml_venv\\lib\\site-packages\\sklearn\\utils\\validation.py:869: UserWarning: pandas.DataFrame with sparse columns found.It will be converted to a dense numpy array.\n",
      "  warnings.warn(\n",
      "c:\\Users\\lisap\\miniconda3\\envs\\ml_venv\\lib\\site-packages\\sklearn\\utils\\validation.py:869: UserWarning: pandas.DataFrame with sparse columns found.It will be converted to a dense numpy array.\n",
      "  warnings.warn(\n",
      "c:\\Users\\lisap\\miniconda3\\envs\\ml_venv\\lib\\site-packages\\sklearn\\utils\\validation.py:869: UserWarning: pandas.DataFrame with sparse columns found.It will be converted to a dense numpy array.\n",
      "  warnings.warn(\n",
      "c:\\Users\\lisap\\miniconda3\\envs\\ml_venv\\lib\\site-packages\\sklearn\\utils\\validation.py:869: UserWarning: pandas.DataFrame with sparse columns found.It will be converted to a dense numpy array.\n",
      "  warnings.warn(\n",
      "c:\\Users\\lisap\\miniconda3\\envs\\ml_venv\\lib\\site-packages\\sklearn\\utils\\validation.py:869: UserWarning: pandas.DataFrame with sparse columns found.It will be converted to a dense numpy array.\n",
      "  warnings.warn(\n",
      "c:\\Users\\lisap\\miniconda3\\envs\\ml_venv\\lib\\site-packages\\sklearn\\utils\\validation.py:869: UserWarning: pandas.DataFrame with sparse columns found.It will be converted to a dense numpy array.\n",
      "  warnings.warn(\n",
      "c:\\Users\\lisap\\miniconda3\\envs\\ml_venv\\lib\\site-packages\\sklearn\\utils\\validation.py:869: UserWarning: pandas.DataFrame with sparse columns found.It will be converted to a dense numpy array.\n",
      "  warnings.warn(\n",
      "c:\\Users\\lisap\\miniconda3\\envs\\ml_venv\\lib\\site-packages\\sklearn\\utils\\validation.py:869: UserWarning: pandas.DataFrame with sparse columns found.It will be converted to a dense numpy array.\n",
      "  warnings.warn(\n",
      "c:\\Users\\lisap\\miniconda3\\envs\\ml_venv\\lib\\site-packages\\sklearn\\utils\\validation.py:869: UserWarning: pandas.DataFrame with sparse columns found.It will be converted to a dense numpy array.\n",
      "  warnings.warn(\n",
      "c:\\Users\\lisap\\miniconda3\\envs\\ml_venv\\lib\\site-packages\\sklearn\\utils\\validation.py:869: UserWarning: pandas.DataFrame with sparse columns found.It will be converted to a dense numpy array.\n",
      "  warnings.warn(\n",
      "c:\\Users\\lisap\\miniconda3\\envs\\ml_venv\\lib\\site-packages\\sklearn\\utils\\validation.py:869: UserWarning: pandas.DataFrame with sparse columns found.It will be converted to a dense numpy array.\n",
      "  warnings.warn(\n",
      "c:\\Users\\lisap\\miniconda3\\envs\\ml_venv\\lib\\site-packages\\sklearn\\utils\\validation.py:869: UserWarning: pandas.DataFrame with sparse columns found.It will be converted to a dense numpy array.\n",
      "  warnings.warn(\n",
      "c:\\Users\\lisap\\miniconda3\\envs\\ml_venv\\lib\\site-packages\\sklearn\\utils\\validation.py:869: UserWarning: pandas.DataFrame with sparse columns found.It will be converted to a dense numpy array.\n",
      "  warnings.warn(\n",
      "c:\\Users\\lisap\\miniconda3\\envs\\ml_venv\\lib\\site-packages\\sklearn\\utils\\validation.py:869: UserWarning: pandas.DataFrame with sparse columns found.It will be converted to a dense numpy array.\n",
      "  warnings.warn(\n",
      "c:\\Users\\lisap\\miniconda3\\envs\\ml_venv\\lib\\site-packages\\sklearn\\utils\\validation.py:869: UserWarning: pandas.DataFrame with sparse columns found.It will be converted to a dense numpy array.\n",
      "  warnings.warn(\n",
      "c:\\Users\\lisap\\miniconda3\\envs\\ml_venv\\lib\\site-packages\\sklearn\\utils\\validation.py:869: UserWarning: pandas.DataFrame with sparse columns found.It will be converted to a dense numpy array.\n",
      "  warnings.warn(\n",
      "c:\\Users\\lisap\\miniconda3\\envs\\ml_venv\\lib\\site-packages\\sklearn\\utils\\validation.py:869: UserWarning: pandas.DataFrame with sparse columns found.It will be converted to a dense numpy array.\n",
      "  warnings.warn(\n",
      "c:\\Users\\lisap\\miniconda3\\envs\\ml_venv\\lib\\site-packages\\sklearn\\utils\\validation.py:869: UserWarning: pandas.DataFrame with sparse columns found.It will be converted to a dense numpy array.\n",
      "  warnings.warn(\n",
      "c:\\Users\\lisap\\miniconda3\\envs\\ml_venv\\lib\\site-packages\\sklearn\\utils\\validation.py:869: UserWarning: pandas.DataFrame with sparse columns found.It will be converted to a dense numpy array.\n",
      "  warnings.warn(\n",
      "c:\\Users\\lisap\\miniconda3\\envs\\ml_venv\\lib\\site-packages\\sklearn\\utils\\validation.py:869: UserWarning: pandas.DataFrame with sparse columns found.It will be converted to a dense numpy array.\n",
      "  warnings.warn(\n",
      "c:\\Users\\lisap\\miniconda3\\envs\\ml_venv\\lib\\site-packages\\sklearn\\utils\\validation.py:869: UserWarning: pandas.DataFrame with sparse columns found.It will be converted to a dense numpy array.\n",
      "  warnings.warn(\n",
      "c:\\Users\\lisap\\miniconda3\\envs\\ml_venv\\lib\\site-packages\\sklearn\\utils\\validation.py:869: UserWarning: pandas.DataFrame with sparse columns found.It will be converted to a dense numpy array.\n",
      "  warnings.warn(\n",
      "c:\\Users\\lisap\\miniconda3\\envs\\ml_venv\\lib\\site-packages\\sklearn\\utils\\validation.py:869: UserWarning: pandas.DataFrame with sparse columns found.It will be converted to a dense numpy array.\n",
      "  warnings.warn(\n",
      "c:\\Users\\lisap\\miniconda3\\envs\\ml_venv\\lib\\site-packages\\sklearn\\utils\\validation.py:869: UserWarning: pandas.DataFrame with sparse columns found.It will be converted to a dense numpy array.\n",
      "  warnings.warn(\n",
      "c:\\Users\\lisap\\miniconda3\\envs\\ml_venv\\lib\\site-packages\\sklearn\\utils\\validation.py:869: UserWarning: pandas.DataFrame with sparse columns found.It will be converted to a dense numpy array.\n",
      "  warnings.warn(\n",
      "c:\\Users\\lisap\\miniconda3\\envs\\ml_venv\\lib\\site-packages\\sklearn\\utils\\validation.py:869: UserWarning: pandas.DataFrame with sparse columns found.It will be converted to a dense numpy array.\n",
      "  warnings.warn(\n",
      "c:\\Users\\lisap\\miniconda3\\envs\\ml_venv\\lib\\site-packages\\sklearn\\utils\\validation.py:869: UserWarning: pandas.DataFrame with sparse columns found.It will be converted to a dense numpy array.\n",
      "  warnings.warn(\n",
      "c:\\Users\\lisap\\miniconda3\\envs\\ml_venv\\lib\\site-packages\\sklearn\\utils\\validation.py:869: UserWarning: pandas.DataFrame with sparse columns found.It will be converted to a dense numpy array.\n",
      "  warnings.warn(\n",
      "c:\\Users\\lisap\\miniconda3\\envs\\ml_venv\\lib\\site-packages\\sklearn\\utils\\validation.py:869: UserWarning: pandas.DataFrame with sparse columns found.It will be converted to a dense numpy array.\n",
      "  warnings.warn(\n"
     ]
    },
    {
     "name": "stdout",
     "output_type": "stream",
     "text": [
      "Best parameters: {'max_depth': None, 'n_estimators': 100}\n",
      "Best cross-validation score: -0.0\n",
      "Test set RMSE: 0.0\n",
      "\n",
      "Trained Random Forest model saved as Random Forest_model.pkl\n",
      "\n",
      "Training XGBoost...\n"
     ]
    },
    {
     "name": "stderr",
     "output_type": "stream",
     "text": [
      "c:\\Users\\lisap\\miniconda3\\envs\\ml_venv\\lib\\site-packages\\sklearn\\utils\\validation.py:869: UserWarning: pandas.DataFrame with sparse columns found.It will be converted to a dense numpy array.\n",
      "  warnings.warn(\n"
     ]
    },
    {
     "name": "stdout",
     "output_type": "stream",
     "text": [
      "Best parameters: {'max_depth': 5, 'n_estimators': 100}\n",
      "Best cross-validation score: 2.9308632866666556e-11\n",
      "Test set RMSE: 4.456253496136869e-06\n",
      "\n",
      "Trained XGBoost model saved as XGBoost_model.pkl\n",
      "\n",
      "Training KNN...\n"
     ]
    },
    {
     "name": "stderr",
     "output_type": "stream",
     "text": [
      "c:\\Users\\lisap\\miniconda3\\envs\\ml_venv\\lib\\site-packages\\sklearn\\utils\\validation.py:869: UserWarning: pandas.DataFrame with sparse columns found.It will be converted to a dense numpy array.\n",
      "  warnings.warn(\n",
      "c:\\Users\\lisap\\miniconda3\\envs\\ml_venv\\lib\\site-packages\\sklearn\\utils\\validation.py:869: UserWarning: pandas.DataFrame with sparse columns found.It will be converted to a dense numpy array.\n",
      "  warnings.warn(\n",
      "c:\\Users\\lisap\\miniconda3\\envs\\ml_venv\\lib\\site-packages\\sklearn\\utils\\validation.py:869: UserWarning: pandas.DataFrame with sparse columns found.It will be converted to a dense numpy array.\n",
      "  warnings.warn(\n",
      "c:\\Users\\lisap\\miniconda3\\envs\\ml_venv\\lib\\site-packages\\sklearn\\utils\\validation.py:869: UserWarning: pandas.DataFrame with sparse columns found.It will be converted to a dense numpy array.\n",
      "  warnings.warn(\n",
      "c:\\Users\\lisap\\miniconda3\\envs\\ml_venv\\lib\\site-packages\\sklearn\\utils\\validation.py:869: UserWarning: pandas.DataFrame with sparse columns found.It will be converted to a dense numpy array.\n",
      "  warnings.warn(\n",
      "c:\\Users\\lisap\\miniconda3\\envs\\ml_venv\\lib\\site-packages\\sklearn\\utils\\validation.py:869: UserWarning: pandas.DataFrame with sparse columns found.It will be converted to a dense numpy array.\n",
      "  warnings.warn(\n",
      "c:\\Users\\lisap\\miniconda3\\envs\\ml_venv\\lib\\site-packages\\sklearn\\utils\\validation.py:869: UserWarning: pandas.DataFrame with sparse columns found.It will be converted to a dense numpy array.\n",
      "  warnings.warn(\n",
      "c:\\Users\\lisap\\miniconda3\\envs\\ml_venv\\lib\\site-packages\\sklearn\\utils\\validation.py:869: UserWarning: pandas.DataFrame with sparse columns found.It will be converted to a dense numpy array.\n",
      "  warnings.warn(\n",
      "c:\\Users\\lisap\\miniconda3\\envs\\ml_venv\\lib\\site-packages\\sklearn\\utils\\validation.py:869: UserWarning: pandas.DataFrame with sparse columns found.It will be converted to a dense numpy array.\n",
      "  warnings.warn(\n",
      "c:\\Users\\lisap\\miniconda3\\envs\\ml_venv\\lib\\site-packages\\sklearn\\utils\\validation.py:869: UserWarning: pandas.DataFrame with sparse columns found.It will be converted to a dense numpy array.\n",
      "  warnings.warn(\n",
      "c:\\Users\\lisap\\miniconda3\\envs\\ml_venv\\lib\\site-packages\\sklearn\\utils\\validation.py:869: UserWarning: pandas.DataFrame with sparse columns found.It will be converted to a dense numpy array.\n",
      "  warnings.warn(\n",
      "c:\\Users\\lisap\\miniconda3\\envs\\ml_venv\\lib\\site-packages\\sklearn\\utils\\validation.py:869: UserWarning: pandas.DataFrame with sparse columns found.It will be converted to a dense numpy array.\n",
      "  warnings.warn(\n",
      "c:\\Users\\lisap\\miniconda3\\envs\\ml_venv\\lib\\site-packages\\sklearn\\utils\\validation.py:869: UserWarning: pandas.DataFrame with sparse columns found.It will be converted to a dense numpy array.\n",
      "  warnings.warn(\n",
      "c:\\Users\\lisap\\miniconda3\\envs\\ml_venv\\lib\\site-packages\\sklearn\\utils\\validation.py:869: UserWarning: pandas.DataFrame with sparse columns found.It will be converted to a dense numpy array.\n",
      "  warnings.warn(\n",
      "c:\\Users\\lisap\\miniconda3\\envs\\ml_venv\\lib\\site-packages\\sklearn\\utils\\validation.py:869: UserWarning: pandas.DataFrame with sparse columns found.It will be converted to a dense numpy array.\n",
      "  warnings.warn(\n",
      "c:\\Users\\lisap\\miniconda3\\envs\\ml_venv\\lib\\site-packages\\sklearn\\utils\\validation.py:869: UserWarning: pandas.DataFrame with sparse columns found.It will be converted to a dense numpy array.\n",
      "  warnings.warn(\n",
      "c:\\Users\\lisap\\miniconda3\\envs\\ml_venv\\lib\\site-packages\\sklearn\\utils\\validation.py:869: UserWarning: pandas.DataFrame with sparse columns found.It will be converted to a dense numpy array.\n",
      "  warnings.warn(\n",
      "c:\\Users\\lisap\\miniconda3\\envs\\ml_venv\\lib\\site-packages\\sklearn\\utils\\validation.py:869: UserWarning: pandas.DataFrame with sparse columns found.It will be converted to a dense numpy array.\n",
      "  warnings.warn(\n",
      "c:\\Users\\lisap\\miniconda3\\envs\\ml_venv\\lib\\site-packages\\sklearn\\utils\\validation.py:869: UserWarning: pandas.DataFrame with sparse columns found.It will be converted to a dense numpy array.\n",
      "  warnings.warn(\n",
      "c:\\Users\\lisap\\miniconda3\\envs\\ml_venv\\lib\\site-packages\\sklearn\\utils\\validation.py:869: UserWarning: pandas.DataFrame with sparse columns found.It will be converted to a dense numpy array.\n",
      "  warnings.warn(\n",
      "c:\\Users\\lisap\\miniconda3\\envs\\ml_venv\\lib\\site-packages\\sklearn\\utils\\validation.py:869: UserWarning: pandas.DataFrame with sparse columns found.It will be converted to a dense numpy array.\n",
      "  warnings.warn(\n",
      "c:\\Users\\lisap\\miniconda3\\envs\\ml_venv\\lib\\site-packages\\sklearn\\utils\\validation.py:869: UserWarning: pandas.DataFrame with sparse columns found.It will be converted to a dense numpy array.\n",
      "  warnings.warn(\n",
      "c:\\Users\\lisap\\miniconda3\\envs\\ml_venv\\lib\\site-packages\\sklearn\\utils\\validation.py:869: UserWarning: pandas.DataFrame with sparse columns found.It will be converted to a dense numpy array.\n",
      "  warnings.warn(\n",
      "c:\\Users\\lisap\\miniconda3\\envs\\ml_venv\\lib\\site-packages\\sklearn\\utils\\validation.py:869: UserWarning: pandas.DataFrame with sparse columns found.It will be converted to a dense numpy array.\n",
      "  warnings.warn(\n",
      "c:\\Users\\lisap\\miniconda3\\envs\\ml_venv\\lib\\site-packages\\sklearn\\utils\\validation.py:869: UserWarning: pandas.DataFrame with sparse columns found.It will be converted to a dense numpy array.\n",
      "  warnings.warn(\n",
      "c:\\Users\\lisap\\miniconda3\\envs\\ml_venv\\lib\\site-packages\\sklearn\\utils\\validation.py:869: UserWarning: pandas.DataFrame with sparse columns found.It will be converted to a dense numpy array.\n",
      "  warnings.warn(\n",
      "c:\\Users\\lisap\\miniconda3\\envs\\ml_venv\\lib\\site-packages\\sklearn\\utils\\validation.py:869: UserWarning: pandas.DataFrame with sparse columns found.It will be converted to a dense numpy array.\n",
      "  warnings.warn(\n",
      "c:\\Users\\lisap\\miniconda3\\envs\\ml_venv\\lib\\site-packages\\sklearn\\utils\\validation.py:869: UserWarning: pandas.DataFrame with sparse columns found.It will be converted to a dense numpy array.\n",
      "  warnings.warn(\n",
      "c:\\Users\\lisap\\miniconda3\\envs\\ml_venv\\lib\\site-packages\\sklearn\\utils\\validation.py:869: UserWarning: pandas.DataFrame with sparse columns found.It will be converted to a dense numpy array.\n",
      "  warnings.warn(\n",
      "c:\\Users\\lisap\\miniconda3\\envs\\ml_venv\\lib\\site-packages\\sklearn\\utils\\validation.py:869: UserWarning: pandas.DataFrame with sparse columns found.It will be converted to a dense numpy array.\n",
      "  warnings.warn(\n",
      "c:\\Users\\lisap\\miniconda3\\envs\\ml_venv\\lib\\site-packages\\sklearn\\utils\\validation.py:869: UserWarning: pandas.DataFrame with sparse columns found.It will be converted to a dense numpy array.\n",
      "  warnings.warn(\n",
      "c:\\Users\\lisap\\miniconda3\\envs\\ml_venv\\lib\\site-packages\\sklearn\\utils\\validation.py:869: UserWarning: pandas.DataFrame with sparse columns found.It will be converted to a dense numpy array.\n",
      "  warnings.warn(\n",
      "c:\\Users\\lisap\\miniconda3\\envs\\ml_venv\\lib\\site-packages\\sklearn\\utils\\validation.py:869: UserWarning: pandas.DataFrame with sparse columns found.It will be converted to a dense numpy array.\n",
      "  warnings.warn(\n",
      "c:\\Users\\lisap\\miniconda3\\envs\\ml_venv\\lib\\site-packages\\sklearn\\utils\\validation.py:869: UserWarning: pandas.DataFrame with sparse columns found.It will be converted to a dense numpy array.\n",
      "  warnings.warn(\n",
      "c:\\Users\\lisap\\miniconda3\\envs\\ml_venv\\lib\\site-packages\\sklearn\\utils\\validation.py:869: UserWarning: pandas.DataFrame with sparse columns found.It will be converted to a dense numpy array.\n",
      "  warnings.warn(\n",
      "c:\\Users\\lisap\\miniconda3\\envs\\ml_venv\\lib\\site-packages\\sklearn\\utils\\validation.py:869: UserWarning: pandas.DataFrame with sparse columns found.It will be converted to a dense numpy array.\n",
      "  warnings.warn(\n",
      "c:\\Users\\lisap\\miniconda3\\envs\\ml_venv\\lib\\site-packages\\sklearn\\utils\\validation.py:869: UserWarning: pandas.DataFrame with sparse columns found.It will be converted to a dense numpy array.\n",
      "  warnings.warn(\n",
      "c:\\Users\\lisap\\miniconda3\\envs\\ml_venv\\lib\\site-packages\\sklearn\\utils\\validation.py:869: UserWarning: pandas.DataFrame with sparse columns found.It will be converted to a dense numpy array.\n",
      "  warnings.warn(\n",
      "c:\\Users\\lisap\\miniconda3\\envs\\ml_venv\\lib\\site-packages\\sklearn\\utils\\validation.py:869: UserWarning: pandas.DataFrame with sparse columns found.It will be converted to a dense numpy array.\n",
      "  warnings.warn(\n",
      "c:\\Users\\lisap\\miniconda3\\envs\\ml_venv\\lib\\site-packages\\sklearn\\utils\\validation.py:869: UserWarning: pandas.DataFrame with sparse columns found.It will be converted to a dense numpy array.\n",
      "  warnings.warn(\n",
      "c:\\Users\\lisap\\miniconda3\\envs\\ml_venv\\lib\\site-packages\\sklearn\\utils\\validation.py:869: UserWarning: pandas.DataFrame with sparse columns found.It will be converted to a dense numpy array.\n",
      "  warnings.warn(\n",
      "c:\\Users\\lisap\\miniconda3\\envs\\ml_venv\\lib\\site-packages\\sklearn\\utils\\validation.py:869: UserWarning: pandas.DataFrame with sparse columns found.It will be converted to a dense numpy array.\n",
      "  warnings.warn(\n",
      "c:\\Users\\lisap\\miniconda3\\envs\\ml_venv\\lib\\site-packages\\sklearn\\utils\\validation.py:869: UserWarning: pandas.DataFrame with sparse columns found.It will be converted to a dense numpy array.\n",
      "  warnings.warn(\n",
      "c:\\Users\\lisap\\miniconda3\\envs\\ml_venv\\lib\\site-packages\\sklearn\\utils\\validation.py:869: UserWarning: pandas.DataFrame with sparse columns found.It will be converted to a dense numpy array.\n",
      "  warnings.warn(\n",
      "c:\\Users\\lisap\\miniconda3\\envs\\ml_venv\\lib\\site-packages\\sklearn\\utils\\validation.py:869: UserWarning: pandas.DataFrame with sparse columns found.It will be converted to a dense numpy array.\n",
      "  warnings.warn(\n",
      "c:\\Users\\lisap\\miniconda3\\envs\\ml_venv\\lib\\site-packages\\sklearn\\utils\\validation.py:869: UserWarning: pandas.DataFrame with sparse columns found.It will be converted to a dense numpy array.\n",
      "  warnings.warn(\n",
      "c:\\Users\\lisap\\miniconda3\\envs\\ml_venv\\lib\\site-packages\\sklearn\\utils\\validation.py:869: UserWarning: pandas.DataFrame with sparse columns found.It will be converted to a dense numpy array.\n",
      "  warnings.warn(\n",
      "c:\\Users\\lisap\\miniconda3\\envs\\ml_venv\\lib\\site-packages\\sklearn\\utils\\validation.py:869: UserWarning: pandas.DataFrame with sparse columns found.It will be converted to a dense numpy array.\n",
      "  warnings.warn(\n",
      "c:\\Users\\lisap\\miniconda3\\envs\\ml_venv\\lib\\site-packages\\sklearn\\utils\\validation.py:869: UserWarning: pandas.DataFrame with sparse columns found.It will be converted to a dense numpy array.\n",
      "  warnings.warn(\n",
      "c:\\Users\\lisap\\miniconda3\\envs\\ml_venv\\lib\\site-packages\\sklearn\\utils\\validation.py:869: UserWarning: pandas.DataFrame with sparse columns found.It will be converted to a dense numpy array.\n",
      "  warnings.warn(\n",
      "c:\\Users\\lisap\\miniconda3\\envs\\ml_venv\\lib\\site-packages\\sklearn\\utils\\validation.py:869: UserWarning: pandas.DataFrame with sparse columns found.It will be converted to a dense numpy array.\n",
      "  warnings.warn(\n",
      "c:\\Users\\lisap\\miniconda3\\envs\\ml_venv\\lib\\site-packages\\sklearn\\utils\\validation.py:869: UserWarning: pandas.DataFrame with sparse columns found.It will be converted to a dense numpy array.\n",
      "  warnings.warn(\n",
      "c:\\Users\\lisap\\miniconda3\\envs\\ml_venv\\lib\\site-packages\\sklearn\\utils\\validation.py:869: UserWarning: pandas.DataFrame with sparse columns found.It will be converted to a dense numpy array.\n",
      "  warnings.warn(\n",
      "c:\\Users\\lisap\\miniconda3\\envs\\ml_venv\\lib\\site-packages\\sklearn\\utils\\validation.py:869: UserWarning: pandas.DataFrame with sparse columns found.It will be converted to a dense numpy array.\n",
      "  warnings.warn(\n",
      "c:\\Users\\lisap\\miniconda3\\envs\\ml_venv\\lib\\site-packages\\sklearn\\utils\\validation.py:869: UserWarning: pandas.DataFrame with sparse columns found.It will be converted to a dense numpy array.\n",
      "  warnings.warn(\n",
      "c:\\Users\\lisap\\miniconda3\\envs\\ml_venv\\lib\\site-packages\\sklearn\\utils\\validation.py:869: UserWarning: pandas.DataFrame with sparse columns found.It will be converted to a dense numpy array.\n",
      "  warnings.warn(\n",
      "c:\\Users\\lisap\\miniconda3\\envs\\ml_venv\\lib\\site-packages\\sklearn\\utils\\validation.py:869: UserWarning: pandas.DataFrame with sparse columns found.It will be converted to a dense numpy array.\n",
      "  warnings.warn(\n",
      "c:\\Users\\lisap\\miniconda3\\envs\\ml_venv\\lib\\site-packages\\sklearn\\utils\\validation.py:869: UserWarning: pandas.DataFrame with sparse columns found.It will be converted to a dense numpy array.\n",
      "  warnings.warn(\n",
      "c:\\Users\\lisap\\miniconda3\\envs\\ml_venv\\lib\\site-packages\\sklearn\\utils\\validation.py:869: UserWarning: pandas.DataFrame with sparse columns found.It will be converted to a dense numpy array.\n",
      "  warnings.warn(\n",
      "c:\\Users\\lisap\\miniconda3\\envs\\ml_venv\\lib\\site-packages\\sklearn\\utils\\validation.py:869: UserWarning: pandas.DataFrame with sparse columns found.It will be converted to a dense numpy array.\n",
      "  warnings.warn(\n",
      "c:\\Users\\lisap\\miniconda3\\envs\\ml_venv\\lib\\site-packages\\sklearn\\utils\\validation.py:869: UserWarning: pandas.DataFrame with sparse columns found.It will be converted to a dense numpy array.\n",
      "  warnings.warn(\n",
      "c:\\Users\\lisap\\miniconda3\\envs\\ml_venv\\lib\\site-packages\\sklearn\\utils\\validation.py:869: UserWarning: pandas.DataFrame with sparse columns found.It will be converted to a dense numpy array.\n",
      "  warnings.warn(\n",
      "c:\\Users\\lisap\\miniconda3\\envs\\ml_venv\\lib\\site-packages\\sklearn\\utils\\validation.py:869: UserWarning: pandas.DataFrame with sparse columns found.It will be converted to a dense numpy array.\n",
      "  warnings.warn(\n",
      "c:\\Users\\lisap\\miniconda3\\envs\\ml_venv\\lib\\site-packages\\sklearn\\utils\\validation.py:869: UserWarning: pandas.DataFrame with sparse columns found.It will be converted to a dense numpy array.\n",
      "  warnings.warn(\n",
      "c:\\Users\\lisap\\miniconda3\\envs\\ml_venv\\lib\\site-packages\\sklearn\\utils\\validation.py:869: UserWarning: pandas.DataFrame with sparse columns found.It will be converted to a dense numpy array.\n",
      "  warnings.warn(\n",
      "c:\\Users\\lisap\\miniconda3\\envs\\ml_venv\\lib\\site-packages\\sklearn\\utils\\validation.py:869: UserWarning: pandas.DataFrame with sparse columns found.It will be converted to a dense numpy array.\n",
      "  warnings.warn(\n",
      "c:\\Users\\lisap\\miniconda3\\envs\\ml_venv\\lib\\site-packages\\sklearn\\utils\\validation.py:869: UserWarning: pandas.DataFrame with sparse columns found.It will be converted to a dense numpy array.\n",
      "  warnings.warn(\n",
      "c:\\Users\\lisap\\miniconda3\\envs\\ml_venv\\lib\\site-packages\\sklearn\\utils\\validation.py:869: UserWarning: pandas.DataFrame with sparse columns found.It will be converted to a dense numpy array.\n",
      "  warnings.warn(\n",
      "c:\\Users\\lisap\\miniconda3\\envs\\ml_venv\\lib\\site-packages\\sklearn\\utils\\validation.py:869: UserWarning: pandas.DataFrame with sparse columns found.It will be converted to a dense numpy array.\n",
      "  warnings.warn(\n",
      "c:\\Users\\lisap\\miniconda3\\envs\\ml_venv\\lib\\site-packages\\sklearn\\utils\\validation.py:869: UserWarning: pandas.DataFrame with sparse columns found.It will be converted to a dense numpy array.\n",
      "  warnings.warn(\n",
      "c:\\Users\\lisap\\miniconda3\\envs\\ml_venv\\lib\\site-packages\\sklearn\\utils\\validation.py:869: UserWarning: pandas.DataFrame with sparse columns found.It will be converted to a dense numpy array.\n",
      "  warnings.warn(\n",
      "c:\\Users\\lisap\\miniconda3\\envs\\ml_venv\\lib\\site-packages\\sklearn\\utils\\validation.py:869: UserWarning: pandas.DataFrame with sparse columns found.It will be converted to a dense numpy array.\n",
      "  warnings.warn(\n",
      "c:\\Users\\lisap\\miniconda3\\envs\\ml_venv\\lib\\site-packages\\sklearn\\utils\\validation.py:869: UserWarning: pandas.DataFrame with sparse columns found.It will be converted to a dense numpy array.\n",
      "  warnings.warn(\n",
      "c:\\Users\\lisap\\miniconda3\\envs\\ml_venv\\lib\\site-packages\\sklearn\\utils\\validation.py:869: UserWarning: pandas.DataFrame with sparse columns found.It will be converted to a dense numpy array.\n",
      "  warnings.warn(\n",
      "c:\\Users\\lisap\\miniconda3\\envs\\ml_venv\\lib\\site-packages\\sklearn\\utils\\validation.py:869: UserWarning: pandas.DataFrame with sparse columns found.It will be converted to a dense numpy array.\n",
      "  warnings.warn(\n",
      "c:\\Users\\lisap\\miniconda3\\envs\\ml_venv\\lib\\site-packages\\sklearn\\utils\\validation.py:869: UserWarning: pandas.DataFrame with sparse columns found.It will be converted to a dense numpy array.\n",
      "  warnings.warn(\n",
      "c:\\Users\\lisap\\miniconda3\\envs\\ml_venv\\lib\\site-packages\\sklearn\\utils\\validation.py:869: UserWarning: pandas.DataFrame with sparse columns found.It will be converted to a dense numpy array.\n",
      "  warnings.warn(\n",
      "c:\\Users\\lisap\\miniconda3\\envs\\ml_venv\\lib\\site-packages\\sklearn\\utils\\validation.py:869: UserWarning: pandas.DataFrame with sparse columns found.It will be converted to a dense numpy array.\n",
      "  warnings.warn(\n",
      "c:\\Users\\lisap\\miniconda3\\envs\\ml_venv\\lib\\site-packages\\sklearn\\utils\\validation.py:869: UserWarning: pandas.DataFrame with sparse columns found.It will be converted to a dense numpy array.\n",
      "  warnings.warn(\n",
      "c:\\Users\\lisap\\miniconda3\\envs\\ml_venv\\lib\\site-packages\\sklearn\\utils\\validation.py:869: UserWarning: pandas.DataFrame with sparse columns found.It will be converted to a dense numpy array.\n",
      "  warnings.warn(\n",
      "c:\\Users\\lisap\\miniconda3\\envs\\ml_venv\\lib\\site-packages\\sklearn\\utils\\validation.py:869: UserWarning: pandas.DataFrame with sparse columns found.It will be converted to a dense numpy array.\n",
      "  warnings.warn(\n",
      "c:\\Users\\lisap\\miniconda3\\envs\\ml_venv\\lib\\site-packages\\sklearn\\utils\\validation.py:869: UserWarning: pandas.DataFrame with sparse columns found.It will be converted to a dense numpy array.\n",
      "  warnings.warn(\n",
      "c:\\Users\\lisap\\miniconda3\\envs\\ml_venv\\lib\\site-packages\\sklearn\\utils\\validation.py:869: UserWarning: pandas.DataFrame with sparse columns found.It will be converted to a dense numpy array.\n",
      "  warnings.warn(\n",
      "c:\\Users\\lisap\\miniconda3\\envs\\ml_venv\\lib\\site-packages\\sklearn\\utils\\validation.py:869: UserWarning: pandas.DataFrame with sparse columns found.It will be converted to a dense numpy array.\n",
      "  warnings.warn(\n",
      "c:\\Users\\lisap\\miniconda3\\envs\\ml_venv\\lib\\site-packages\\sklearn\\utils\\validation.py:869: UserWarning: pandas.DataFrame with sparse columns found.It will be converted to a dense numpy array.\n",
      "  warnings.warn(\n",
      "c:\\Users\\lisap\\miniconda3\\envs\\ml_venv\\lib\\site-packages\\sklearn\\utils\\validation.py:869: UserWarning: pandas.DataFrame with sparse columns found.It will be converted to a dense numpy array.\n",
      "  warnings.warn(\n",
      "c:\\Users\\lisap\\miniconda3\\envs\\ml_venv\\lib\\site-packages\\sklearn\\utils\\validation.py:869: UserWarning: pandas.DataFrame with sparse columns found.It will be converted to a dense numpy array.\n",
      "  warnings.warn(\n",
      "c:\\Users\\lisap\\miniconda3\\envs\\ml_venv\\lib\\site-packages\\sklearn\\utils\\validation.py:869: UserWarning: pandas.DataFrame with sparse columns found.It will be converted to a dense numpy array.\n",
      "  warnings.warn(\n",
      "c:\\Users\\lisap\\miniconda3\\envs\\ml_venv\\lib\\site-packages\\sklearn\\utils\\validation.py:869: UserWarning: pandas.DataFrame with sparse columns found.It will be converted to a dense numpy array.\n",
      "  warnings.warn(\n",
      "c:\\Users\\lisap\\miniconda3\\envs\\ml_venv\\lib\\site-packages\\sklearn\\utils\\validation.py:869: UserWarning: pandas.DataFrame with sparse columns found.It will be converted to a dense numpy array.\n",
      "  warnings.warn(\n",
      "c:\\Users\\lisap\\miniconda3\\envs\\ml_venv\\lib\\site-packages\\sklearn\\utils\\validation.py:869: UserWarning: pandas.DataFrame with sparse columns found.It will be converted to a dense numpy array.\n",
      "  warnings.warn(\n",
      "c:\\Users\\lisap\\miniconda3\\envs\\ml_venv\\lib\\site-packages\\sklearn\\utils\\validation.py:869: UserWarning: pandas.DataFrame with sparse columns found.It will be converted to a dense numpy array.\n",
      "  warnings.warn(\n",
      "c:\\Users\\lisap\\miniconda3\\envs\\ml_venv\\lib\\site-packages\\sklearn\\utils\\validation.py:869: UserWarning: pandas.DataFrame with sparse columns found.It will be converted to a dense numpy array.\n",
      "  warnings.warn(\n",
      "c:\\Users\\lisap\\miniconda3\\envs\\ml_venv\\lib\\site-packages\\sklearn\\utils\\validation.py:869: UserWarning: pandas.DataFrame with sparse columns found.It will be converted to a dense numpy array.\n",
      "  warnings.warn(\n",
      "c:\\Users\\lisap\\miniconda3\\envs\\ml_venv\\lib\\site-packages\\sklearn\\utils\\validation.py:869: UserWarning: pandas.DataFrame with sparse columns found.It will be converted to a dense numpy array.\n",
      "  warnings.warn(\n",
      "c:\\Users\\lisap\\miniconda3\\envs\\ml_venv\\lib\\site-packages\\sklearn\\utils\\validation.py:869: UserWarning: pandas.DataFrame with sparse columns found.It will be converted to a dense numpy array.\n",
      "  warnings.warn(\n",
      "c:\\Users\\lisap\\miniconda3\\envs\\ml_venv\\lib\\site-packages\\sklearn\\utils\\validation.py:869: UserWarning: pandas.DataFrame with sparse columns found.It will be converted to a dense numpy array.\n",
      "  warnings.warn(\n",
      "c:\\Users\\lisap\\miniconda3\\envs\\ml_venv\\lib\\site-packages\\sklearn\\utils\\validation.py:869: UserWarning: pandas.DataFrame with sparse columns found.It will be converted to a dense numpy array.\n",
      "  warnings.warn(\n",
      "c:\\Users\\lisap\\miniconda3\\envs\\ml_venv\\lib\\site-packages\\sklearn\\utils\\validation.py:869: UserWarning: pandas.DataFrame with sparse columns found.It will be converted to a dense numpy array.\n",
      "  warnings.warn(\n",
      "c:\\Users\\lisap\\miniconda3\\envs\\ml_venv\\lib\\site-packages\\sklearn\\utils\\validation.py:869: UserWarning: pandas.DataFrame with sparse columns found.It will be converted to a dense numpy array.\n",
      "  warnings.warn(\n",
      "c:\\Users\\lisap\\miniconda3\\envs\\ml_venv\\lib\\site-packages\\sklearn\\utils\\validation.py:869: UserWarning: pandas.DataFrame with sparse columns found.It will be converted to a dense numpy array.\n",
      "  warnings.warn(\n",
      "c:\\Users\\lisap\\miniconda3\\envs\\ml_venv\\lib\\site-packages\\sklearn\\utils\\validation.py:869: UserWarning: pandas.DataFrame with sparse columns found.It will be converted to a dense numpy array.\n",
      "  warnings.warn(\n",
      "c:\\Users\\lisap\\miniconda3\\envs\\ml_venv\\lib\\site-packages\\sklearn\\utils\\validation.py:869: UserWarning: pandas.DataFrame with sparse columns found.It will be converted to a dense numpy array.\n",
      "  warnings.warn(\n",
      "c:\\Users\\lisap\\miniconda3\\envs\\ml_venv\\lib\\site-packages\\sklearn\\utils\\validation.py:869: UserWarning: pandas.DataFrame with sparse columns found.It will be converted to a dense numpy array.\n",
      "  warnings.warn(\n",
      "c:\\Users\\lisap\\miniconda3\\envs\\ml_venv\\lib\\site-packages\\sklearn\\utils\\validation.py:869: UserWarning: pandas.DataFrame with sparse columns found.It will be converted to a dense numpy array.\n",
      "  warnings.warn(\n",
      "c:\\Users\\lisap\\miniconda3\\envs\\ml_venv\\lib\\site-packages\\sklearn\\utils\\validation.py:869: UserWarning: pandas.DataFrame with sparse columns found.It will be converted to a dense numpy array.\n",
      "  warnings.warn(\n",
      "c:\\Users\\lisap\\miniconda3\\envs\\ml_venv\\lib\\site-packages\\sklearn\\utils\\validation.py:869: UserWarning: pandas.DataFrame with sparse columns found.It will be converted to a dense numpy array.\n",
      "  warnings.warn(\n",
      "c:\\Users\\lisap\\miniconda3\\envs\\ml_venv\\lib\\site-packages\\sklearn\\utils\\validation.py:869: UserWarning: pandas.DataFrame with sparse columns found.It will be converted to a dense numpy array.\n",
      "  warnings.warn(\n",
      "c:\\Users\\lisap\\miniconda3\\envs\\ml_venv\\lib\\site-packages\\sklearn\\utils\\validation.py:869: UserWarning: pandas.DataFrame with sparse columns found.It will be converted to a dense numpy array.\n",
      "  warnings.warn(\n",
      "c:\\Users\\lisap\\miniconda3\\envs\\ml_venv\\lib\\site-packages\\sklearn\\utils\\validation.py:869: UserWarning: pandas.DataFrame with sparse columns found.It will be converted to a dense numpy array.\n",
      "  warnings.warn(\n",
      "c:\\Users\\lisap\\miniconda3\\envs\\ml_venv\\lib\\site-packages\\sklearn\\utils\\validation.py:869: UserWarning: pandas.DataFrame with sparse columns found.It will be converted to a dense numpy array.\n",
      "  warnings.warn(\n",
      "c:\\Users\\lisap\\miniconda3\\envs\\ml_venv\\lib\\site-packages\\sklearn\\utils\\validation.py:869: UserWarning: pandas.DataFrame with sparse columns found.It will be converted to a dense numpy array.\n",
      "  warnings.warn(\n",
      "c:\\Users\\lisap\\miniconda3\\envs\\ml_venv\\lib\\site-packages\\sklearn\\utils\\validation.py:869: UserWarning: pandas.DataFrame with sparse columns found.It will be converted to a dense numpy array.\n",
      "  warnings.warn(\n",
      "c:\\Users\\lisap\\miniconda3\\envs\\ml_venv\\lib\\site-packages\\sklearn\\utils\\validation.py:869: UserWarning: pandas.DataFrame with sparse columns found.It will be converted to a dense numpy array.\n",
      "  warnings.warn(\n",
      "c:\\Users\\lisap\\miniconda3\\envs\\ml_venv\\lib\\site-packages\\sklearn\\utils\\validation.py:869: UserWarning: pandas.DataFrame with sparse columns found.It will be converted to a dense numpy array.\n",
      "  warnings.warn(\n",
      "c:\\Users\\lisap\\miniconda3\\envs\\ml_venv\\lib\\site-packages\\sklearn\\utils\\validation.py:869: UserWarning: pandas.DataFrame with sparse columns found.It will be converted to a dense numpy array.\n",
      "  warnings.warn(\n",
      "c:\\Users\\lisap\\miniconda3\\envs\\ml_venv\\lib\\site-packages\\sklearn\\utils\\validation.py:869: UserWarning: pandas.DataFrame with sparse columns found.It will be converted to a dense numpy array.\n",
      "  warnings.warn(\n",
      "c:\\Users\\lisap\\miniconda3\\envs\\ml_venv\\lib\\site-packages\\sklearn\\utils\\validation.py:869: UserWarning: pandas.DataFrame with sparse columns found.It will be converted to a dense numpy array.\n",
      "  warnings.warn(\n",
      "c:\\Users\\lisap\\miniconda3\\envs\\ml_venv\\lib\\site-packages\\sklearn\\utils\\validation.py:869: UserWarning: pandas.DataFrame with sparse columns found.It will be converted to a dense numpy array.\n",
      "  warnings.warn(\n",
      "c:\\Users\\lisap\\miniconda3\\envs\\ml_venv\\lib\\site-packages\\sklearn\\utils\\validation.py:869: UserWarning: pandas.DataFrame with sparse columns found.It will be converted to a dense numpy array.\n",
      "  warnings.warn(\n",
      "c:\\Users\\lisap\\miniconda3\\envs\\ml_venv\\lib\\site-packages\\sklearn\\utils\\validation.py:869: UserWarning: pandas.DataFrame with sparse columns found.It will be converted to a dense numpy array.\n",
      "  warnings.warn(\n",
      "c:\\Users\\lisap\\miniconda3\\envs\\ml_venv\\lib\\site-packages\\sklearn\\utils\\validation.py:869: UserWarning: pandas.DataFrame with sparse columns found.It will be converted to a dense numpy array.\n",
      "  warnings.warn(\n",
      "c:\\Users\\lisap\\miniconda3\\envs\\ml_venv\\lib\\site-packages\\sklearn\\utils\\validation.py:869: UserWarning: pandas.DataFrame with sparse columns found.It will be converted to a dense numpy array.\n",
      "  warnings.warn(\n",
      "c:\\Users\\lisap\\miniconda3\\envs\\ml_venv\\lib\\site-packages\\sklearn\\utils\\validation.py:869: UserWarning: pandas.DataFrame with sparse columns found.It will be converted to a dense numpy array.\n",
      "  warnings.warn(\n",
      "c:\\Users\\lisap\\miniconda3\\envs\\ml_venv\\lib\\site-packages\\sklearn\\utils\\validation.py:869: UserWarning: pandas.DataFrame with sparse columns found.It will be converted to a dense numpy array.\n",
      "  warnings.warn(\n",
      "c:\\Users\\lisap\\miniconda3\\envs\\ml_venv\\lib\\site-packages\\sklearn\\utils\\validation.py:869: UserWarning: pandas.DataFrame with sparse columns found.It will be converted to a dense numpy array.\n",
      "  warnings.warn(\n",
      "c:\\Users\\lisap\\miniconda3\\envs\\ml_venv\\lib\\site-packages\\sklearn\\utils\\validation.py:869: UserWarning: pandas.DataFrame with sparse columns found.It will be converted to a dense numpy array.\n",
      "  warnings.warn(\n",
      "c:\\Users\\lisap\\miniconda3\\envs\\ml_venv\\lib\\site-packages\\sklearn\\utils\\validation.py:869: UserWarning: pandas.DataFrame with sparse columns found.It will be converted to a dense numpy array.\n",
      "  warnings.warn(\n",
      "c:\\Users\\lisap\\miniconda3\\envs\\ml_venv\\lib\\site-packages\\sklearn\\utils\\validation.py:869: UserWarning: pandas.DataFrame with sparse columns found.It will be converted to a dense numpy array.\n",
      "  warnings.warn(\n",
      "c:\\Users\\lisap\\miniconda3\\envs\\ml_venv\\lib\\site-packages\\sklearn\\utils\\validation.py:869: UserWarning: pandas.DataFrame with sparse columns found.It will be converted to a dense numpy array.\n",
      "  warnings.warn(\n",
      "c:\\Users\\lisap\\miniconda3\\envs\\ml_venv\\lib\\site-packages\\sklearn\\utils\\validation.py:869: UserWarning: pandas.DataFrame with sparse columns found.It will be converted to a dense numpy array.\n",
      "  warnings.warn(\n",
      "c:\\Users\\lisap\\miniconda3\\envs\\ml_venv\\lib\\site-packages\\sklearn\\utils\\validation.py:869: UserWarning: pandas.DataFrame with sparse columns found.It will be converted to a dense numpy array.\n",
      "  warnings.warn(\n",
      "c:\\Users\\lisap\\miniconda3\\envs\\ml_venv\\lib\\site-packages\\sklearn\\utils\\validation.py:869: UserWarning: pandas.DataFrame with sparse columns found.It will be converted to a dense numpy array.\n",
      "  warnings.warn(\n",
      "c:\\Users\\lisap\\miniconda3\\envs\\ml_venv\\lib\\site-packages\\sklearn\\utils\\validation.py:869: UserWarning: pandas.DataFrame with sparse columns found.It will be converted to a dense numpy array.\n",
      "  warnings.warn(\n",
      "c:\\Users\\lisap\\miniconda3\\envs\\ml_venv\\lib\\site-packages\\sklearn\\utils\\validation.py:869: UserWarning: pandas.DataFrame with sparse columns found.It will be converted to a dense numpy array.\n",
      "  warnings.warn(\n",
      "c:\\Users\\lisap\\miniconda3\\envs\\ml_venv\\lib\\site-packages\\sklearn\\utils\\validation.py:869: UserWarning: pandas.DataFrame with sparse columns found.It will be converted to a dense numpy array.\n",
      "  warnings.warn(\n",
      "c:\\Users\\lisap\\miniconda3\\envs\\ml_venv\\lib\\site-packages\\sklearn\\utils\\validation.py:869: UserWarning: pandas.DataFrame with sparse columns found.It will be converted to a dense numpy array.\n",
      "  warnings.warn(\n",
      "c:\\Users\\lisap\\miniconda3\\envs\\ml_venv\\lib\\site-packages\\sklearn\\utils\\validation.py:869: UserWarning: pandas.DataFrame with sparse columns found.It will be converted to a dense numpy array.\n",
      "  warnings.warn(\n",
      "c:\\Users\\lisap\\miniconda3\\envs\\ml_venv\\lib\\site-packages\\sklearn\\utils\\validation.py:869: UserWarning: pandas.DataFrame with sparse columns found.It will be converted to a dense numpy array.\n",
      "  warnings.warn(\n",
      "c:\\Users\\lisap\\miniconda3\\envs\\ml_venv\\lib\\site-packages\\sklearn\\utils\\validation.py:869: UserWarning: pandas.DataFrame with sparse columns found.It will be converted to a dense numpy array.\n",
      "  warnings.warn(\n",
      "c:\\Users\\lisap\\miniconda3\\envs\\ml_venv\\lib\\site-packages\\sklearn\\utils\\validation.py:869: UserWarning: pandas.DataFrame with sparse columns found.It will be converted to a dense numpy array.\n",
      "  warnings.warn(\n",
      "c:\\Users\\lisap\\miniconda3\\envs\\ml_venv\\lib\\site-packages\\sklearn\\utils\\validation.py:869: UserWarning: pandas.DataFrame with sparse columns found.It will be converted to a dense numpy array.\n",
      "  warnings.warn(\n",
      "c:\\Users\\lisap\\miniconda3\\envs\\ml_venv\\lib\\site-packages\\sklearn\\utils\\validation.py:869: UserWarning: pandas.DataFrame with sparse columns found.It will be converted to a dense numpy array.\n",
      "  warnings.warn(\n",
      "c:\\Users\\lisap\\miniconda3\\envs\\ml_venv\\lib\\site-packages\\sklearn\\utils\\validation.py:869: UserWarning: pandas.DataFrame with sparse columns found.It will be converted to a dense numpy array.\n",
      "  warnings.warn(\n",
      "c:\\Users\\lisap\\miniconda3\\envs\\ml_venv\\lib\\site-packages\\sklearn\\utils\\validation.py:869: UserWarning: pandas.DataFrame with sparse columns found.It will be converted to a dense numpy array.\n",
      "  warnings.warn(\n",
      "c:\\Users\\lisap\\miniconda3\\envs\\ml_venv\\lib\\site-packages\\sklearn\\utils\\validation.py:869: UserWarning: pandas.DataFrame with sparse columns found.It will be converted to a dense numpy array.\n",
      "  warnings.warn(\n",
      "c:\\Users\\lisap\\miniconda3\\envs\\ml_venv\\lib\\site-packages\\sklearn\\utils\\validation.py:869: UserWarning: pandas.DataFrame with sparse columns found.It will be converted to a dense numpy array.\n",
      "  warnings.warn(\n",
      "c:\\Users\\lisap\\miniconda3\\envs\\ml_venv\\lib\\site-packages\\sklearn\\utils\\validation.py:869: UserWarning: pandas.DataFrame with sparse columns found.It will be converted to a dense numpy array.\n",
      "  warnings.warn(\n",
      "c:\\Users\\lisap\\miniconda3\\envs\\ml_venv\\lib\\site-packages\\sklearn\\utils\\validation.py:869: UserWarning: pandas.DataFrame with sparse columns found.It will be converted to a dense numpy array.\n",
      "  warnings.warn(\n",
      "c:\\Users\\lisap\\miniconda3\\envs\\ml_venv\\lib\\site-packages\\sklearn\\utils\\validation.py:869: UserWarning: pandas.DataFrame with sparse columns found.It will be converted to a dense numpy array.\n",
      "  warnings.warn(\n",
      "c:\\Users\\lisap\\miniconda3\\envs\\ml_venv\\lib\\site-packages\\sklearn\\utils\\validation.py:869: UserWarning: pandas.DataFrame with sparse columns found.It will be converted to a dense numpy array.\n",
      "  warnings.warn(\n",
      "c:\\Users\\lisap\\miniconda3\\envs\\ml_venv\\lib\\site-packages\\sklearn\\utils\\validation.py:869: UserWarning: pandas.DataFrame with sparse columns found.It will be converted to a dense numpy array.\n",
      "  warnings.warn(\n",
      "c:\\Users\\lisap\\miniconda3\\envs\\ml_venv\\lib\\site-packages\\sklearn\\utils\\validation.py:869: UserWarning: pandas.DataFrame with sparse columns found.It will be converted to a dense numpy array.\n",
      "  warnings.warn(\n",
      "c:\\Users\\lisap\\miniconda3\\envs\\ml_venv\\lib\\site-packages\\sklearn\\utils\\validation.py:869: UserWarning: pandas.DataFrame with sparse columns found.It will be converted to a dense numpy array.\n",
      "  warnings.warn(\n",
      "c:\\Users\\lisap\\miniconda3\\envs\\ml_venv\\lib\\site-packages\\sklearn\\utils\\validation.py:869: UserWarning: pandas.DataFrame with sparse columns found.It will be converted to a dense numpy array.\n",
      "  warnings.warn(\n",
      "c:\\Users\\lisap\\miniconda3\\envs\\ml_venv\\lib\\site-packages\\sklearn\\utils\\validation.py:869: UserWarning: pandas.DataFrame with sparse columns found.It will be converted to a dense numpy array.\n",
      "  warnings.warn(\n",
      "c:\\Users\\lisap\\miniconda3\\envs\\ml_venv\\lib\\site-packages\\sklearn\\utils\\validation.py:869: UserWarning: pandas.DataFrame with sparse columns found.It will be converted to a dense numpy array.\n",
      "  warnings.warn(\n",
      "c:\\Users\\lisap\\miniconda3\\envs\\ml_venv\\lib\\site-packages\\sklearn\\utils\\validation.py:869: UserWarning: pandas.DataFrame with sparse columns found.It will be converted to a dense numpy array.\n",
      "  warnings.warn(\n",
      "c:\\Users\\lisap\\miniconda3\\envs\\ml_venv\\lib\\site-packages\\sklearn\\utils\\validation.py:869: UserWarning: pandas.DataFrame with sparse columns found.It will be converted to a dense numpy array.\n",
      "  warnings.warn(\n",
      "c:\\Users\\lisap\\miniconda3\\envs\\ml_venv\\lib\\site-packages\\sklearn\\utils\\validation.py:869: UserWarning: pandas.DataFrame with sparse columns found.It will be converted to a dense numpy array.\n",
      "  warnings.warn(\n",
      "c:\\Users\\lisap\\miniconda3\\envs\\ml_venv\\lib\\site-packages\\sklearn\\utils\\validation.py:869: UserWarning: pandas.DataFrame with sparse columns found.It will be converted to a dense numpy array.\n",
      "  warnings.warn(\n"
     ]
    },
    {
     "name": "stdout",
     "output_type": "stream",
     "text": [
      "Best parameters: {'metric': 'euclidean', 'n_neighbors': 9, 'weights': 'distance'}\n",
      "Best cross-validation score: 0.005714681551580401\n"
     ]
    },
    {
     "name": "stderr",
     "output_type": "stream",
     "text": [
      "c:\\Users\\lisap\\miniconda3\\envs\\ml_venv\\lib\\site-packages\\sklearn\\utils\\validation.py:869: UserWarning: pandas.DataFrame with sparse columns found.It will be converted to a dense numpy array.\n",
      "  warnings.warn(\n"
     ]
    },
    {
     "name": "stdout",
     "output_type": "stream",
     "text": [
      "Test set RMSE: 0.06938140312614335\n",
      "\n",
      "Trained KNN model saved as KNN_model.pkl\n",
      "\n"
     ]
    }
   ],
   "source": [
    "from sklearn.model_selection import GridSearchCV\n",
    "from sklearn.linear_model import Lasso\n",
    "from sklearn.ensemble import RandomForestRegressor\n",
    "from xgboost import XGBRegressor\n",
    "from sklearn.neighbors import KNeighborsRegressor\n",
    "import numpy as np\n",
    "import joblib\n",
    "\n",
    "# Definir los modelos\n",
    "models = {\n",
    "    'Lasso': Lasso(),\n",
    "    'Random Forest': RandomForestRegressor(random_state=42),\n",
    "    'XGBoost': XGBRegressor(random_state=42),\n",
    "    'KNN': KNeighborsRegressor()\n",
    "}\n",
    "\n",
    "# Definir los hiperparámetros a ajustar para cada modelo\n",
    "params = {\n",
    "    'Lasso': {'alpha': [0.01, 0.1, 1, 10]},\n",
    "    'Random Forest': {'n_estimators': [100, 200, 300], 'max_depth': [None, 10, 20]},\n",
    "    'XGBoost': {'n_estimators': [100, 200, 300], 'max_depth': [3, 5, 7]},\n",
    "    'KNN' : {'n_neighbors': [3, 5, 7, 9], 'weights': ['uniform', 'distance'], 'metric': ['euclidean', 'manhattan']}\n",
    "    }\n",
    "\n",
    "# Realizar la búsqueda de hiperparámetros con validación cruzada para cada modelo\n",
    "for name, model in models.items():\n",
    "    print(f\"Training {name}...\")\n",
    "    grid_search = GridSearchCV(model, params[name], cv=5, scoring='neg_mean_squared_error')\n",
    "    grid_search.fit(X_train, y_train)\n",
    "    print(\"Best parameters:\", grid_search.best_params_)\n",
    "    print(\"Best cross-validation score:\", -grid_search.best_score_)\n",
    "    print(\"Test set RMSE:\", np.sqrt(-grid_search.score(X_test, y_test)))\n",
    "    print()\n",
    "\n",
    "    # Guardar el modelo\n",
    "    joblib.dump(grid_search.best_estimator_, f\"{name}_model.pkl\")\n",
    "    print(f\"Trained {name} model saved as {name}_model.pkl\\n\")\n"
   ]
  },
  {
   "cell_type": "markdown",
   "metadata": {},
   "source": [
    "## Evaluación de los modelos"
   ]
  },
  {
   "cell_type": "code",
   "execution_count": 57,
   "metadata": {},
   "outputs": [],
   "source": [
    "LR_model = load('Lasso_model.pkl')\n",
    "RF_model = load('Random Forest_model.pkl')\n",
    "KNN_model = load('KNN_model.pkl')\n",
    "XGB_model = load('XGBoost_model.pkl')"
   ]
  },
  {
   "cell_type": "code",
   "execution_count": 55,
   "metadata": {},
   "outputs": [
    {
     "name": "stdout",
     "output_type": "stream",
     "text": [
      "Métricas para el modelo Regresión Logística\n",
      "Mean Squared Error: 3.680344156906486e-05\n",
      "R^2 Score: 0.999987090199123\n",
      "Métricas para el modelo Random Forest\n",
      "Mean Squared Error: 0.0\n",
      "R^2 Score: 1.0\n",
      "Métricas para el modelo KNN\n",
      "Mean Squared Error: 0.004813779099752415\n",
      "R^2 Score: 0.9983114370017047\n",
      "Métricas para el modelo XGBoost\n",
      "Mean Squared Error: 1.985819522183207e-11\n",
      "R^2 Score: 0.9999999999930342\n"
     ]
    }
   ],
   "source": [
    "import warnings\n",
    "warnings.filterwarnings(\"ignore\")\n",
    "\n",
    "# Importar las bibliotecas necesarias\n",
    "from sklearn.metrics import mean_squared_error, mean_absolute_error, r2_score\n",
    "\n",
    "# Definir la función para evaluar el modelo de regresión\n",
    "def metricas(modelo, X_test, y_test, nombre):\n",
    "    predicciones = modelo.predict(X_test)\n",
    "    mse = mean_squared_error(y_test, predicciones)\n",
    "    r2 = r2_score(y_test, predicciones)\n",
    "    print(\"Métricas para el modelo\", nombre)\n",
    "    print(\"Mean Squared Error:\", mse)\n",
    "    print(\"R^2 Score:\", r2)\n",
    "    return predicciones\n",
    "\n",
    "# Evaluar cada modelo de regresión\n",
    "predicciones_LR = metricas(LR_model, X_test, y_test, \"Regresión Logística\")\n",
    "predicciones_RF = metricas(RF_model, X_test, y_test, \"Random Forest\")\n",
    "predicciones_KNN = metricas(KNN_model, X_test, y_test, \"KNN\")\n",
    "predicciones_xgboost = metricas(XGB_model, X_test, y_test, \"XGBoost\")"
   ]
  },
  {
   "cell_type": "code",
   "execution_count": 59,
   "metadata": {},
   "outputs": [
    {
     "name": "stdout",
     "output_type": "stream",
     "text": [
      "                Modelo           MSE        R2\n",
      "0  Regresión Logística  3.680344e-05  0.999987\n",
      "1        Random Forest  0.000000e+00  1.000000\n",
      "2                  KNN  4.813779e-03  0.998311\n",
      "3              XGBoost  1.985820e-11  1.000000\n"
     ]
    }
   ],
   "source": [
    "# Definir la función para evaluar el modelo de regresión\n",
    "def metricas(modelo, X_test, y_test, nombre):\n",
    "    predicciones = modelo.predict(X_test)\n",
    "    mse = mean_squared_error(y_test, predicciones)\n",
    "    r2 = r2_score(y_test, predicciones)\n",
    "    return nombre, mse, r2\n",
    "\n",
    "# Evaluar cada modelo de regresión\n",
    "metricas_modelos = []\n",
    "\n",
    "metricas_modelos.append(metricas(LR_model, X_test, y_test, \"Regresión Logística\"))\n",
    "metricas_modelos.append(metricas(RF_model, X_test, y_test, \"Random Forest\"))\n",
    "metricas_modelos.append(metricas(KNN_model, X_test, y_test, \"KNN\"))\n",
    "metricas_modelos.append(metricas(XGB_model, X_test, y_test, \"XGBoost\"))\n",
    "\n",
    "# Crear un DataFrame con las métricas obtenidas\n",
    "metricas_df = pd.DataFrame(metricas_modelos, columns=['Modelo', 'MSE', 'R2'])\n",
    "\n",
    "# Imprimir el DataFrame\n",
    "print(metricas_df)"
   ]
  },
  {
   "cell_type": "code",
   "execution_count": 84,
   "metadata": {},
   "outputs": [
    {
     "data": {
      "application/vnd.plotly.v1+json": {
       "config": {
        "plotlyServerURL": "https://plot.ly"
       },
       "data": [
        {
         "name": "Regresión Logística",
         "type": "bar",
         "x": [
          "Regresión Logística"
         ],
         "y": [
          0.999987090199123
         ]
        },
        {
         "name": "Random Forest",
         "type": "bar",
         "x": [
          "Random Forest"
         ],
         "y": [
          1
         ]
        },
        {
         "name": "KNN",
         "type": "bar",
         "x": [
          "KNN"
         ],
         "y": [
          0.9983114370017047
         ]
        },
        {
         "name": "XGBoost",
         "type": "bar",
         "x": [
          "XGBoost"
         ],
         "y": [
          0.9999999999930342
         ]
        }
       ],
       "layout": {
        "barmode": "group",
        "template": {
         "data": {
          "bar": [
           {
            "error_x": {
             "color": "#2a3f5f"
            },
            "error_y": {
             "color": "#2a3f5f"
            },
            "marker": {
             "line": {
              "color": "#E5ECF6",
              "width": 0.5
             },
             "pattern": {
              "fillmode": "overlay",
              "size": 10,
              "solidity": 0.2
             }
            },
            "type": "bar"
           }
          ],
          "barpolar": [
           {
            "marker": {
             "line": {
              "color": "#E5ECF6",
              "width": 0.5
             },
             "pattern": {
              "fillmode": "overlay",
              "size": 10,
              "solidity": 0.2
             }
            },
            "type": "barpolar"
           }
          ],
          "carpet": [
           {
            "aaxis": {
             "endlinecolor": "#2a3f5f",
             "gridcolor": "white",
             "linecolor": "white",
             "minorgridcolor": "white",
             "startlinecolor": "#2a3f5f"
            },
            "baxis": {
             "endlinecolor": "#2a3f5f",
             "gridcolor": "white",
             "linecolor": "white",
             "minorgridcolor": "white",
             "startlinecolor": "#2a3f5f"
            },
            "type": "carpet"
           }
          ],
          "choropleth": [
           {
            "colorbar": {
             "outlinewidth": 0,
             "ticks": ""
            },
            "type": "choropleth"
           }
          ],
          "contour": [
           {
            "colorbar": {
             "outlinewidth": 0,
             "ticks": ""
            },
            "colorscale": [
             [
              0,
              "#0d0887"
             ],
             [
              0.1111111111111111,
              "#46039f"
             ],
             [
              0.2222222222222222,
              "#7201a8"
             ],
             [
              0.3333333333333333,
              "#9c179e"
             ],
             [
              0.4444444444444444,
              "#bd3786"
             ],
             [
              0.5555555555555556,
              "#d8576b"
             ],
             [
              0.6666666666666666,
              "#ed7953"
             ],
             [
              0.7777777777777778,
              "#fb9f3a"
             ],
             [
              0.8888888888888888,
              "#fdca26"
             ],
             [
              1,
              "#f0f921"
             ]
            ],
            "type": "contour"
           }
          ],
          "contourcarpet": [
           {
            "colorbar": {
             "outlinewidth": 0,
             "ticks": ""
            },
            "type": "contourcarpet"
           }
          ],
          "heatmap": [
           {
            "colorbar": {
             "outlinewidth": 0,
             "ticks": ""
            },
            "colorscale": [
             [
              0,
              "#0d0887"
             ],
             [
              0.1111111111111111,
              "#46039f"
             ],
             [
              0.2222222222222222,
              "#7201a8"
             ],
             [
              0.3333333333333333,
              "#9c179e"
             ],
             [
              0.4444444444444444,
              "#bd3786"
             ],
             [
              0.5555555555555556,
              "#d8576b"
             ],
             [
              0.6666666666666666,
              "#ed7953"
             ],
             [
              0.7777777777777778,
              "#fb9f3a"
             ],
             [
              0.8888888888888888,
              "#fdca26"
             ],
             [
              1,
              "#f0f921"
             ]
            ],
            "type": "heatmap"
           }
          ],
          "heatmapgl": [
           {
            "colorbar": {
             "outlinewidth": 0,
             "ticks": ""
            },
            "colorscale": [
             [
              0,
              "#0d0887"
             ],
             [
              0.1111111111111111,
              "#46039f"
             ],
             [
              0.2222222222222222,
              "#7201a8"
             ],
             [
              0.3333333333333333,
              "#9c179e"
             ],
             [
              0.4444444444444444,
              "#bd3786"
             ],
             [
              0.5555555555555556,
              "#d8576b"
             ],
             [
              0.6666666666666666,
              "#ed7953"
             ],
             [
              0.7777777777777778,
              "#fb9f3a"
             ],
             [
              0.8888888888888888,
              "#fdca26"
             ],
             [
              1,
              "#f0f921"
             ]
            ],
            "type": "heatmapgl"
           }
          ],
          "histogram": [
           {
            "marker": {
             "pattern": {
              "fillmode": "overlay",
              "size": 10,
              "solidity": 0.2
             }
            },
            "type": "histogram"
           }
          ],
          "histogram2d": [
           {
            "colorbar": {
             "outlinewidth": 0,
             "ticks": ""
            },
            "colorscale": [
             [
              0,
              "#0d0887"
             ],
             [
              0.1111111111111111,
              "#46039f"
             ],
             [
              0.2222222222222222,
              "#7201a8"
             ],
             [
              0.3333333333333333,
              "#9c179e"
             ],
             [
              0.4444444444444444,
              "#bd3786"
             ],
             [
              0.5555555555555556,
              "#d8576b"
             ],
             [
              0.6666666666666666,
              "#ed7953"
             ],
             [
              0.7777777777777778,
              "#fb9f3a"
             ],
             [
              0.8888888888888888,
              "#fdca26"
             ],
             [
              1,
              "#f0f921"
             ]
            ],
            "type": "histogram2d"
           }
          ],
          "histogram2dcontour": [
           {
            "colorbar": {
             "outlinewidth": 0,
             "ticks": ""
            },
            "colorscale": [
             [
              0,
              "#0d0887"
             ],
             [
              0.1111111111111111,
              "#46039f"
             ],
             [
              0.2222222222222222,
              "#7201a8"
             ],
             [
              0.3333333333333333,
              "#9c179e"
             ],
             [
              0.4444444444444444,
              "#bd3786"
             ],
             [
              0.5555555555555556,
              "#d8576b"
             ],
             [
              0.6666666666666666,
              "#ed7953"
             ],
             [
              0.7777777777777778,
              "#fb9f3a"
             ],
             [
              0.8888888888888888,
              "#fdca26"
             ],
             [
              1,
              "#f0f921"
             ]
            ],
            "type": "histogram2dcontour"
           }
          ],
          "mesh3d": [
           {
            "colorbar": {
             "outlinewidth": 0,
             "ticks": ""
            },
            "type": "mesh3d"
           }
          ],
          "parcoords": [
           {
            "line": {
             "colorbar": {
              "outlinewidth": 0,
              "ticks": ""
             }
            },
            "type": "parcoords"
           }
          ],
          "pie": [
           {
            "automargin": true,
            "type": "pie"
           }
          ],
          "scatter": [
           {
            "fillpattern": {
             "fillmode": "overlay",
             "size": 10,
             "solidity": 0.2
            },
            "type": "scatter"
           }
          ],
          "scatter3d": [
           {
            "line": {
             "colorbar": {
              "outlinewidth": 0,
              "ticks": ""
             }
            },
            "marker": {
             "colorbar": {
              "outlinewidth": 0,
              "ticks": ""
             }
            },
            "type": "scatter3d"
           }
          ],
          "scattercarpet": [
           {
            "marker": {
             "colorbar": {
              "outlinewidth": 0,
              "ticks": ""
             }
            },
            "type": "scattercarpet"
           }
          ],
          "scattergeo": [
           {
            "marker": {
             "colorbar": {
              "outlinewidth": 0,
              "ticks": ""
             }
            },
            "type": "scattergeo"
           }
          ],
          "scattergl": [
           {
            "marker": {
             "colorbar": {
              "outlinewidth": 0,
              "ticks": ""
             }
            },
            "type": "scattergl"
           }
          ],
          "scattermapbox": [
           {
            "marker": {
             "colorbar": {
              "outlinewidth": 0,
              "ticks": ""
             }
            },
            "type": "scattermapbox"
           }
          ],
          "scatterpolar": [
           {
            "marker": {
             "colorbar": {
              "outlinewidth": 0,
              "ticks": ""
             }
            },
            "type": "scatterpolar"
           }
          ],
          "scatterpolargl": [
           {
            "marker": {
             "colorbar": {
              "outlinewidth": 0,
              "ticks": ""
             }
            },
            "type": "scatterpolargl"
           }
          ],
          "scatterternary": [
           {
            "marker": {
             "colorbar": {
              "outlinewidth": 0,
              "ticks": ""
             }
            },
            "type": "scatterternary"
           }
          ],
          "surface": [
           {
            "colorbar": {
             "outlinewidth": 0,
             "ticks": ""
            },
            "colorscale": [
             [
              0,
              "#0d0887"
             ],
             [
              0.1111111111111111,
              "#46039f"
             ],
             [
              0.2222222222222222,
              "#7201a8"
             ],
             [
              0.3333333333333333,
              "#9c179e"
             ],
             [
              0.4444444444444444,
              "#bd3786"
             ],
             [
              0.5555555555555556,
              "#d8576b"
             ],
             [
              0.6666666666666666,
              "#ed7953"
             ],
             [
              0.7777777777777778,
              "#fb9f3a"
             ],
             [
              0.8888888888888888,
              "#fdca26"
             ],
             [
              1,
              "#f0f921"
             ]
            ],
            "type": "surface"
           }
          ],
          "table": [
           {
            "cells": {
             "fill": {
              "color": "#EBF0F8"
             },
             "line": {
              "color": "white"
             }
            },
            "header": {
             "fill": {
              "color": "#C8D4E3"
             },
             "line": {
              "color": "white"
             }
            },
            "type": "table"
           }
          ]
         },
         "layout": {
          "annotationdefaults": {
           "arrowcolor": "#2a3f5f",
           "arrowhead": 0,
           "arrowwidth": 1
          },
          "autotypenumbers": "strict",
          "coloraxis": {
           "colorbar": {
            "outlinewidth": 0,
            "ticks": ""
           }
          },
          "colorscale": {
           "diverging": [
            [
             0,
             "#8e0152"
            ],
            [
             0.1,
             "#c51b7d"
            ],
            [
             0.2,
             "#de77ae"
            ],
            [
             0.3,
             "#f1b6da"
            ],
            [
             0.4,
             "#fde0ef"
            ],
            [
             0.5,
             "#f7f7f7"
            ],
            [
             0.6,
             "#e6f5d0"
            ],
            [
             0.7,
             "#b8e186"
            ],
            [
             0.8,
             "#7fbc41"
            ],
            [
             0.9,
             "#4d9221"
            ],
            [
             1,
             "#276419"
            ]
           ],
           "sequential": [
            [
             0,
             "#0d0887"
            ],
            [
             0.1111111111111111,
             "#46039f"
            ],
            [
             0.2222222222222222,
             "#7201a8"
            ],
            [
             0.3333333333333333,
             "#9c179e"
            ],
            [
             0.4444444444444444,
             "#bd3786"
            ],
            [
             0.5555555555555556,
             "#d8576b"
            ],
            [
             0.6666666666666666,
             "#ed7953"
            ],
            [
             0.7777777777777778,
             "#fb9f3a"
            ],
            [
             0.8888888888888888,
             "#fdca26"
            ],
            [
             1,
             "#f0f921"
            ]
           ],
           "sequentialminus": [
            [
             0,
             "#0d0887"
            ],
            [
             0.1111111111111111,
             "#46039f"
            ],
            [
             0.2222222222222222,
             "#7201a8"
            ],
            [
             0.3333333333333333,
             "#9c179e"
            ],
            [
             0.4444444444444444,
             "#bd3786"
            ],
            [
             0.5555555555555556,
             "#d8576b"
            ],
            [
             0.6666666666666666,
             "#ed7953"
            ],
            [
             0.7777777777777778,
             "#fb9f3a"
            ],
            [
             0.8888888888888888,
             "#fdca26"
            ],
            [
             1,
             "#f0f921"
            ]
           ]
          },
          "colorway": [
           "#636efa",
           "#EF553B",
           "#00cc96",
           "#ab63fa",
           "#FFA15A",
           "#19d3f3",
           "#FF6692",
           "#B6E880",
           "#FF97FF",
           "#FECB52"
          ],
          "font": {
           "color": "#2a3f5f"
          },
          "geo": {
           "bgcolor": "white",
           "lakecolor": "white",
           "landcolor": "#E5ECF6",
           "showlakes": true,
           "showland": true,
           "subunitcolor": "white"
          },
          "hoverlabel": {
           "align": "left"
          },
          "hovermode": "closest",
          "mapbox": {
           "style": "light"
          },
          "paper_bgcolor": "white",
          "plot_bgcolor": "#E5ECF6",
          "polar": {
           "angularaxis": {
            "gridcolor": "white",
            "linecolor": "white",
            "ticks": ""
           },
           "bgcolor": "#E5ECF6",
           "radialaxis": {
            "gridcolor": "white",
            "linecolor": "white",
            "ticks": ""
           }
          },
          "scene": {
           "xaxis": {
            "backgroundcolor": "#E5ECF6",
            "gridcolor": "white",
            "gridwidth": 2,
            "linecolor": "white",
            "showbackground": true,
            "ticks": "",
            "zerolinecolor": "white"
           },
           "yaxis": {
            "backgroundcolor": "#E5ECF6",
            "gridcolor": "white",
            "gridwidth": 2,
            "linecolor": "white",
            "showbackground": true,
            "ticks": "",
            "zerolinecolor": "white"
           },
           "zaxis": {
            "backgroundcolor": "#E5ECF6",
            "gridcolor": "white",
            "gridwidth": 2,
            "linecolor": "white",
            "showbackground": true,
            "ticks": "",
            "zerolinecolor": "white"
           }
          },
          "shapedefaults": {
           "line": {
            "color": "#2a3f5f"
           }
          },
          "ternary": {
           "aaxis": {
            "gridcolor": "white",
            "linecolor": "white",
            "ticks": ""
           },
           "baxis": {
            "gridcolor": "white",
            "linecolor": "white",
            "ticks": ""
           },
           "bgcolor": "#E5ECF6",
           "caxis": {
            "gridcolor": "white",
            "linecolor": "white",
            "ticks": ""
           }
          },
          "title": {
           "x": 0.05
          },
          "xaxis": {
           "automargin": true,
           "gridcolor": "white",
           "linecolor": "white",
           "ticks": "",
           "title": {
            "standoff": 15
           },
           "zerolinecolor": "white",
           "zerolinewidth": 2
          },
          "yaxis": {
           "automargin": true,
           "gridcolor": "white",
           "linecolor": "white",
           "ticks": "",
           "title": {
            "standoff": 15
           },
           "zerolinecolor": "white",
           "zerolinewidth": 2
          }
         }
        },
        "title": {
         "text": "R^2 por Modelo"
        },
        "xaxis": {
         "title": {
          "text": "Modelo"
         }
        },
        "yaxis": {
         "range": [
          0.99,
          1
         ],
         "title": {
          "text": "R^2"
         }
        }
       }
      }
     },
     "metadata": {},
     "output_type": "display_data"
    }
   ],
   "source": [
    "import plotly.graph_objs as go\n",
    "\n",
    "# Crear el gráfico de barras para la columna R2\n",
    "fig = go.Figure()\n",
    "\n",
    "# Agregar un trace para cada modelo\n",
    "for index, row in metricas_df.iterrows():\n",
    "    fig.add_trace(go.Bar(\n",
    "        x=[row['Modelo']],\n",
    "        y=[row['R2']],\n",
    "        name=row['Modelo']\n",
    "    ))\n",
    "\n",
    "# Actualizar el diseño del gráfico\n",
    "fig.update_layout(\n",
    "    title='R^2 por Modelo',\n",
    "    xaxis_title='Modelo',\n",
    "    yaxis_title='R^2',\n",
    "    barmode='group'\n",
    ")\n",
    "\n",
    "# Establecer el rango del eje y\n",
    "fig.update_yaxes(range=[0.99, 1])\n",
    "\n",
    "# Mostrar el gráfico\n",
    "fig.show()\n",
    "\n"
   ]
  }
 ],
 "metadata": {
  "kernelspec": {
   "display_name": "ml_venv",
   "language": "python",
   "name": "python3"
  },
  "language_info": {
   "codemirror_mode": {
    "name": "ipython",
    "version": 3
   },
   "file_extension": ".py",
   "mimetype": "text/x-python",
   "name": "python",
   "nbconvert_exporter": "python",
   "pygments_lexer": "ipython3",
   "version": "3.9.18"
  }
 },
 "nbformat": 4,
 "nbformat_minor": 2
}
