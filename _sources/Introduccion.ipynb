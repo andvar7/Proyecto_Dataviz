{
 "cells": [
  {
   "cell_type": "markdown",
   "metadata": {},
   "source": [
    "## Introducción"
   ]
  },
  {
   "cell_type": "markdown",
   "metadata": {},
   "source": [
    "En Colombia, la violencia doméstica es un tema que atraviesa las fibras más sensibles de nuestra sociedad. Diariamente la población se enfrenta con el flagelo silencioso del abuso en sus propios hogares. Este fenómeno, arraigado en nuestras dinámicas culturales, históricas y estructurales, se manifiesta de múltiples formas, desde el abuso físico y emocional hasta el control y coerción económica y sexual. A pesar de los avances en las leyes y las campañas de sensibilización y prevención, las cifras indican que la violencia doméstica sigue siendo una realidad inquietante que demanda atención urgente y la construcción de políticas públicas pertinentes para su descenso."
   ]
  },
  {
   "cell_type": "markdown",
   "metadata": {},
   "source": [
    "El Objetivo de este proyecto es analizar el conjunto de datos de violencia doméstica en Colombia, proporcionado por la DIJIN y la Policía Nacional de Colombia para el periodo 2010-2023, con el fin de identificar los principales factores que inciden en el nivel de riesgo asociado a cada caso y pronosticar la cantidad de incidentes futuros en función de estos factores.</p>\n"
   ]
  },
  {
   "cell_type": "markdown",
   "metadata": {},
   "source": [
    "## Metolodía a implementar"
   ]
  },
  {
   "cell_type": "markdown",
   "metadata": {},
   "source": [
    "### Preprocesamiento de Datos: "
   ]
  },
  {
   "cell_type": "markdown",
   "metadata": {},
   "source": [
    "- Limpiar y preparar los datos para el análisis, asegurando que las entradas sean consistentes y estén completas para una evaluación precisa\n",
    "- Identificar y tratar valores faltantes, outliers y posibles errores de codificación en el conjunto de datos."
   ]
  },
  {
   "cell_type": "markdown",
   "metadata": {},
   "source": [
    "### Análisis Exploratorio:"
   ]
  },
  {
   "cell_type": "markdown",
   "metadata": {},
   "source": [
    "- Realizar un análisis estadístico descriptivo para entender la distribución y las características generales de los datos.\n",
    "- Explorar las tendencias temporales de los casos de violencia doméstica reportados entre 2010 y 2023."
   ]
  },
  {
   "cell_type": "markdown",
   "metadata": {},
   "source": [
    "### Identificación de Factores Clave:"
   ]
  },
  {
   "cell_type": "markdown",
   "metadata": {},
   "source": [
    "- Utilizar técnicas de análisis estadístico y modelado predictivo para identificar los factores que más influyen en el nivel de riesgo de violencia doméstica, como la ubicación, el tipo de arma utilizada y la edad de los involucrados."
   ]
  },
  {
   "cell_type": "markdown",
   "metadata": {},
   "source": [
    "### Desarrollo de Modelos de Clasificación:"
   ]
  },
  {
   "cell_type": "markdown",
   "metadata": {},
   "source": [
    "- Construir y validar modelos de clasificación para determinar el nivel de riesgo de los incidentes de violencia doméstica.\n",
    "- Comparar diferentes algoritmos de clasificación para seleccionar el más adecuado en base a su precisión y eficacia."
   ]
  },
  {
   "cell_type": "markdown",
   "metadata": {},
   "source": [
    "### Pronóstico de Casos Futuros:"
   ]
  },
  {
   "cell_type": "markdown",
   "metadata": {},
   "source": [
    "- Desarrollar un modelo predictivo que permita estimar la cantidad de casos de violencia doméstica que podrían ocurrir en el futuro, basado en los factores clave identificados.\n",
    "- Validar el modelo predictivo utilizando un conjunto de datos de prueba para asegurar su fiabilidad y precisión."
   ]
  },
  {
   "cell_type": "markdown",
   "metadata": {},
   "source": [
    "### Implementación de Herramientas de Visualización:"
   ]
  },
  {
   "cell_type": "markdown",
   "metadata": {},
   "source": [
    "- Crear dashboards interactivos que permitan visualizar los datos y los resultados del análisis, facilitando la interpretación y la toma de decisiones por parte de las autoridades y organizaciones interesadas."
   ]
  }
 ],
 "metadata": {
  "kernelspec": {
   "display_name": "psqlpy_venv",
   "language": "python",
   "name": "psqlpy_venv"
  },
  "language_info": {
   "codemirror_mode": {
    "name": "ipython",
    "version": 3
   },
   "file_extension": ".py",
   "mimetype": "text/x-python",
   "name": "python",
   "nbconvert_exporter": "python",
   "pygments_lexer": "ipython3",
   "version": "3.11.4"
  }
 },
 "nbformat": 4,
 "nbformat_minor": 2
}
